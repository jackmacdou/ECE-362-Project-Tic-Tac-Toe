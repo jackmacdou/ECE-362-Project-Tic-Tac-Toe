{
  "cells": [
    {
      "cell_type": "code",
      "execution_count": 1,
      "metadata": {
        "tags": [
          "hide-input",
          "hide-output"
        ],
        "id": "uTddEi3uJ5dr"
      },
      "outputs": [],
      "source": [
        "import numpy as np\n",
        "import matplotlib.pyplot as plt\n",
        "%matplotlib inline\n",
        "import matplotlib_inline\n",
        "matplotlib_inline.backend_inline.set_matplotlib_formats('svg')\n",
        "import seaborn as sns\n",
        "sns.set_context(\"paper\")\n",
        "sns.set_style(\"ticks\");"
      ]
    },
    {
      "cell_type": "markdown",
      "metadata": {
        "id": "Yirs_-oOJ5dy"
      },
      "source": [
        "# ME 270 - Activity 1 - Shear Force and Bending Moment Diagrams\n",
        "\n",
        "In this activity, we will provide a basic introduction to Python programming motivated by the goal of plotting shear-force and bending-moment diagrams.\n",
        "\n",
        "We see here below a beam with an applied load and an applied moment at some arbitrary points.\n",
        "\n",
        "<figure>\n",
        " <img src=\"https://raw.githubusercontent.com/ebilionis/core-me-data-science-activities-public/refs/heads/main/images/Statics1_beam.png\" width=\"700\" height=\"300\">\n",
        "</figure>\n",
        "\n",
        "We will calculate the shear force and bending moment at different points along the beam and plot the diagrams.\n"
      ]
    },
    {
      "cell_type": "markdown",
      "metadata": {
        "id": "BDZOXwZ4J5d0"
      },
      "source": [
        "### Question 1 - Basic Python Syntax\n",
        "\n",
        "Let's first review some basic Python syntax, starting with variable assignment. It is always good practice to assign variables and not hard-code values in your calculations. It is also good practice to use meaningful variable names and comments to explain the purpose of the variable and the units of the value."
      ]
    },
    {
      "cell_type": "code",
      "execution_count": 2,
      "metadata": {
        "id": "9yY5H1A1J5d1"
      },
      "outputs": [],
      "source": [
        "# Dimension of beam AD\n",
        "d_ab = 6 # m\n",
        "d_bc = 3.0 # m\n",
        "d_cd = 6.0 # m"
      ]
    },
    {
      "cell_type": "markdown",
      "metadata": {
        "id": "gzmIoPCtJ5d1"
      },
      "source": [
        "Exploring variable types and operations is also important. Types are implicit in Python, but you can always check the type of a variable using the `type()` function."
      ]
    },
    {
      "cell_type": "code",
      "execution_count": 3,
      "metadata": {
        "id": "8vONbBJhJ5d2",
        "outputId": "8e81727c-1094-4ab7-9d1d-45cd91eb7cbf",
        "colab": {
          "base_uri": "https://localhost:8080/"
        }
      },
      "outputs": [
        {
          "output_type": "execute_result",
          "data": {
            "text/plain": [
              "int"
            ]
          },
          "metadata": {},
          "execution_count": 3
        }
      ],
      "source": [
        "type(d_ab)"
      ]
    },
    {
      "cell_type": "code",
      "execution_count": 4,
      "metadata": {
        "id": "OuP-gffTJ5d3",
        "outputId": "8d43f924-7765-4788-8aa3-74b5fb9f8c02",
        "colab": {
          "base_uri": "https://localhost:8080/"
        }
      },
      "outputs": [
        {
          "output_type": "execute_result",
          "data": {
            "text/plain": [
              "float"
            ]
          },
          "metadata": {},
          "execution_count": 4
        }
      ],
      "source": [
        "type(d_bc)"
      ]
    },
    {
      "cell_type": "code",
      "execution_count": 5,
      "metadata": {
        "id": "oFSf138IJ5d4",
        "outputId": "2da21e70-c251-465f-dd8e-b01ea08bcdb7",
        "colab": {
          "base_uri": "https://localhost:8080/"
        }
      },
      "outputs": [
        {
          "output_type": "execute_result",
          "data": {
            "text/plain": [
              "float"
            ]
          },
          "metadata": {},
          "execution_count": 5
        }
      ],
      "source": [
        "type(d_cd)"
      ]
    },
    {
      "cell_type": "markdown",
      "metadata": {
        "id": "xSIHUriqJ5d4"
      },
      "source": [
        "Do you see why `d_ab` is an integer and `d_cd` is a float? When we assigned the value of `d_ab` we use did not use a decimal point, so Python interprets it as an integer. When we assigned the value of `d_cd` we used a decimal point, so Python interprets it as a float. We can also convert between types using the `int()` and `float()` functions."
      ]
    },
    {
      "cell_type": "code",
      "execution_count": 6,
      "metadata": {
        "id": "XqH3BSqjJ5d5",
        "outputId": "f3e51393-a2f6-47bb-bfa6-8d41224772d5",
        "colab": {
          "base_uri": "https://localhost:8080/"
        }
      },
      "outputs": [
        {
          "output_type": "execute_result",
          "data": {
            "text/plain": [
              "int"
            ]
          },
          "metadata": {},
          "execution_count": 6
        }
      ],
      "source": [
        "d_cd = int(d_cd)\n",
        "type(d_cd)"
      ]
    },
    {
      "cell_type": "markdown",
      "metadata": {
        "id": "-pRxe6kYJ5d5"
      },
      "source": [
        "Understanding the types of variables is important because it determines how they can be used in calculations. Let's add up our three segment lengths to find the total length of the beam."
      ]
    },
    {
      "cell_type": "code",
      "execution_count": 7,
      "metadata": {
        "id": "yiw7y3m3J5d5",
        "outputId": "8131d297-131b-4de7-9650-f2891377bcaf",
        "colab": {
          "base_uri": "https://localhost:8080/"
        }
      },
      "outputs": [
        {
          "output_type": "execute_result",
          "data": {
            "text/plain": [
              "float"
            ]
          },
          "metadata": {},
          "execution_count": 7
        }
      ],
      "source": [
        "L = d_ab + d_bc + d_cd\n",
        "type(L)"
      ]
    },
    {
      "cell_type": "markdown",
      "metadata": {
        "id": "mrjDiaWaJ5d6"
      },
      "source": [
        "So what is happening here is that the integer `d_ab` is being added to the float `d_cd` and the result is a float. This is because Python will always convert the integer to a float when adding it to a float.\n",
        "\n",
        "Other operations like subtraction, multiplication, division, and exponentiation work similarly. Let me show you the python syntax for these operations."
      ]
    },
    {
      "cell_type": "code",
      "execution_count": 8,
      "metadata": {
        "id": "4HMpZSMwJ5d6",
        "outputId": "e33f893c-1e46-4c59-8fc3-0495810fac38",
        "colab": {
          "base_uri": "https://localhost:8080/"
        }
      },
      "outputs": [
        {
          "output_type": "execute_result",
          "data": {
            "text/plain": [
              "3.0"
            ]
          },
          "metadata": {},
          "execution_count": 8
        }
      ],
      "source": [
        "x = 5.0 - 2\n",
        "x"
      ]
    },
    {
      "cell_type": "code",
      "execution_count": 9,
      "metadata": {
        "id": "ONKueh9sJ5d6",
        "outputId": "650f93f8-b0e2-4e28-c20f-9cde78fd9679",
        "colab": {
          "base_uri": "https://localhost:8080/"
        }
      },
      "outputs": [
        {
          "output_type": "execute_result",
          "data": {
            "text/plain": [
              "6.0"
            ]
          },
          "metadata": {},
          "execution_count": 9
        }
      ],
      "source": [
        "y = 2 * 3.0\n",
        "y"
      ]
    },
    {
      "cell_type": "code",
      "execution_count": 10,
      "metadata": {
        "id": "x-5cBvPQJ5d7",
        "outputId": "97210e6f-026c-4a1a-fdf2-193297acfc1c",
        "colab": {
          "base_uri": "https://localhost:8080/"
        }
      },
      "outputs": [
        {
          "output_type": "execute_result",
          "data": {
            "text/plain": [
              "2.5"
            ]
          },
          "metadata": {},
          "execution_count": 10
        }
      ],
      "source": [
        "z = 5.0 / 2\n",
        "z"
      ]
    },
    {
      "cell_type": "markdown",
      "metadata": {
        "id": "kf5J-bRYJ5d7"
      },
      "source": [
        "Note that the `**` operator is used for exponentiation in Python. Not the `^` operator as in some other programming languages. The `^` operator is used for bitwise XOR in Python."
      ]
    },
    {
      "cell_type": "code",
      "execution_count": 11,
      "metadata": {
        "id": "fqfAlyh2J5d7",
        "outputId": "581972e6-f8d0-4ea1-8746-7af1d946b5e8",
        "colab": {
          "base_uri": "https://localhost:8080/"
        }
      },
      "outputs": [
        {
          "output_type": "execute_result",
          "data": {
            "text/plain": [
              "8.0"
            ]
          },
          "metadata": {},
          "execution_count": 11
        }
      ],
      "source": [
        "a = 2. ** 3\n",
        "a"
      ]
    },
    {
      "cell_type": "markdown",
      "metadata": {
        "id": "vJIbKTQVJ5d8"
      },
      "source": [
        "Let's use some of the operations that we learned to do some calculations about our beam. Let's start with a moment calculation. We know that in equilibrium, the sum of the moments about any point must be zero. Let's calculate the moment about point A.\n",
        "\n",
        "$$\n",
        "\\sum M = 0\n",
        "$$\n",
        "\n",
        "$$\n",
        "\\sum M = M_c - (F_b)(d_{ab}) + (B_y)(L)\n",
        "$$\n",
        "\n",
        "Where we have some known applied moment $M_c$, a known applied force $F_b$, and we can calculate the reaction force $B_y$.\n",
        "\n",
        "Let's rearrange for $B_y$\n",
        "\n",
        "$$\n",
        "B_y = \\frac{F_b d_{ab} - M_c}{L}\n",
        "$$\n",
        "\n",
        "Let me assign some values to these variables and calculate the reaction force $B_y$."
      ]
    },
    {
      "cell_type": "code",
      "execution_count": 12,
      "metadata": {
        "id": "4Z8BsiKlJ5d8",
        "outputId": "c77390e1-6a17-4735-fe33-aa4cdefb3da9",
        "colab": {
          "base_uri": "https://localhost:8080/"
        }
      },
      "outputs": [
        {
          "output_type": "execute_result",
          "data": {
            "text/plain": [
              "2.0"
            ]
          },
          "metadata": {},
          "execution_count": 12
        }
      ],
      "source": [
        "# Applied force at point B\n",
        "F_b = 10.0 # kN\n",
        "\n",
        "# Applied moment at point C\n",
        "M_c = 30.0 # kN*m\n",
        "\n",
        "# Solve for the reaction force By\n",
        "B_y = (F_b * d_ab - M_c) / L\n",
        "B_y"
      ]
    },
    {
      "cell_type": "markdown",
      "metadata": {
        "id": "nlFaHs8tJ5d8"
      },
      "source": [
        "Now, we have done this calculation, I want to see the value of the reaction force $B_y$. Let's look at a nicer way to print the value of a variable using the `print()` function."
      ]
    },
    {
      "cell_type": "code",
      "execution_count": 13,
      "metadata": {
        "id": "iyo3S5uFJ5d8",
        "outputId": "e904125d-079a-426b-cb72-1fe5a49501ff",
        "colab": {
          "base_uri": "https://localhost:8080/"
        }
      },
      "outputs": [
        {
          "output_type": "stream",
          "name": "stdout",
          "text": [
            "The y component reaction force at point B = 2.00 kN\n"
          ]
        }
      ],
      "source": [
        "print(f\"The y component reaction force at point B = {B_y:.2f} kN\")"
      ]
    },
    {
      "cell_type": "markdown",
      "metadata": {
        "id": "5d9-8HvpJ5d8"
      },
      "source": [
        "Notice all of the different ways we can format the output. The `f-string` method is the most modern and most readable. You are maintaining the flexibility, not hard-coding the variable name, and you can format the output to a specific number of decimal places, given by the number after the colon. Let me show you how we can change the output to different decimal places."
      ]
    },
    {
      "cell_type": "code",
      "execution_count": null,
      "metadata": {
        "id": "azaUKaIcJ5d9",
        "outputId": "9fa826fc-bb5d-40a9-ef8a-b97f1bf96ef5"
      },
      "outputs": [
        {
          "name": "stdout",
          "output_type": "stream",
          "text": [
            "The y component reaction force at point B = 2.00000 kN\n"
          ]
        }
      ],
      "source": [
        "print(f\"The y component reaction force at point B = {B_y:.5f} kN\")"
      ]
    },
    {
      "cell_type": "markdown",
      "metadata": {
        "id": "h2bjNA_LJ5d9"
      },
      "source": [
        "Or using scientific notation."
      ]
    },
    {
      "cell_type": "code",
      "execution_count": null,
      "metadata": {
        "id": "-p6CtfbDJ5d9",
        "outputId": "d4dce51d-4fb0-4799-c57a-44f1e9620344"
      },
      "outputs": [
        {
          "name": "stdout",
          "output_type": "stream",
          "text": [
            "The y component reaction force at point B = 2.00e+00 kN\n"
          ]
        }
      ],
      "source": [
        "print(f\"The y component reaction force at point B = {B_y:.2e} kN\")"
      ]
    },
    {
      "cell_type": "markdown",
      "metadata": {
        "id": "Fei2GvsrJ5d9"
      },
      "source": [
        "Now I want you do use what we have learned to calculate the reaction force $A_y$.\n",
        "\n",
        "Print out the value to 2 decimal places, also print out the type of the variable using the print function."
      ]
    },
    {
      "cell_type": "code",
      "execution_count": 14,
      "metadata": {
        "id": "Er1Y_e_QJ5d9",
        "outputId": "1805d111-fd15-45e7-9ab1-21c6f8b716ab",
        "colab": {
          "base_uri": "https://localhost:8080/"
        }
      },
      "outputs": [
        {
          "output_type": "stream",
          "name": "stdout",
          "text": [
            "-30.0\n"
          ]
        }
      ],
      "source": [
        "# YOUR CODE HERE\n",
        "A_y = -M_c + (F_b * 0)\n",
        "print(A_y)"
      ]
    },
    {
      "cell_type": "code",
      "source": [],
      "metadata": {
        "id": "zsScyr5GKsDX"
      },
      "execution_count": null,
      "outputs": []
    },
    {
      "cell_type": "markdown",
      "metadata": {
        "id": "_KwgK1y7J5d9"
      },
      "source": [
        "### Question 2 - Data Structures\n",
        "\n",
        "We will need to organize our data in a way that makes it easy to calculate the shear force and bending moment at different points along the beam. Let's start reviewing some basic data structures in Python.\n",
        "\n",
        "Tuples are ordered collections of elements that are immutable. This means that once you create a tuple, you cannot change the elements inside it. You can access elements of a tuple using indexing, slicing, or unpacking.\n",
        "\n",
        "Let's make a tuples of our distances."
      ]
    },
    {
      "cell_type": "code",
      "execution_count": 19,
      "metadata": {
        "id": "TCuM2H2eJ5d9",
        "outputId": "a3ff3588-3d8c-44cf-fcc8-f4bf8704a237",
        "colab": {
          "base_uri": "https://localhost:8080/"
        }
      },
      "outputs": [
        {
          "output_type": "execute_result",
          "data": {
            "text/plain": [
              "tuple"
            ]
          },
          "metadata": {},
          "execution_count": 19
        }
      ],
      "source": [
        "# Construct a tuple of the distances\n",
        "ds = (d_ab, d_bc, d_cd)\n",
        "type(ds)"
      ]
    },
    {
      "cell_type": "markdown",
      "metadata": {
        "id": "xvZabJn6J5d-"
      },
      "source": [
        "We can recover an element from the tuple using indexing. Remember that Python indexing starts at 0."
      ]
    },
    {
      "cell_type": "code",
      "execution_count": 20,
      "metadata": {
        "id": "X0PJx3jfJ5d_",
        "outputId": "cab5161d-4b7a-4dee-aaf2-daf878b939ba",
        "colab": {
          "base_uri": "https://localhost:8080/"
        }
      },
      "outputs": [
        {
          "output_type": "stream",
          "name": "stdout",
          "text": [
            "The first element of ds is 6\n"
          ]
        }
      ],
      "source": [
        "d = ds[0]\n",
        "print(f'The first element of ds is {d}')"
      ]
    },
    {
      "cell_type": "markdown",
      "metadata": {
        "id": "AQsPIJ9WJ5d_"
      },
      "source": [
        "Let me show you what I mean by tuples being immutable. Let's try to change the value of the first element of the tuple."
      ]
    },
    {
      "cell_type": "code",
      "execution_count": 21,
      "metadata": {
        "id": "C4rh4iDOJ5d_",
        "outputId": "860f05bc-7fed-4893-b9d0-9ee7897881ea",
        "colab": {
          "base_uri": "https://localhost:8080/"
        }
      },
      "outputs": [
        {
          "output_type": "stream",
          "name": "stdout",
          "text": [
            "TypeError: 'tuple' object does not support item assignment\n"
          ]
        }
      ],
      "source": [
        "# Modify the first element of ds\n",
        "new_d = 10.0 # m\n",
        "\n",
        "# Attempt to modify the first element of ds\n",
        "try:\n",
        "    ds[0] = new_d\n",
        "except TypeError as e:\n",
        "    print(f\"TypeError: {e}\")"
      ]
    },
    {
      "cell_type": "markdown",
      "metadata": {
        "id": "ePCQIcZtJ5d_"
      },
      "source": [
        "If we want to change the value of an element in a collection, we should use a list. Lists are ordered collections of elements that are mutable. We use a `[]` to form lists rather than the `()` that we use to form tuples. This means that you can change the elements inside a list. You can access elements of a list using indexing, slicing, or unpacking."
      ]
    },
    {
      "cell_type": "code",
      "execution_count": 22,
      "metadata": {
        "id": "FvKrY5H5J5eA",
        "outputId": "71ce9725-a444-4d42-a7a0-15c8f4fe95af",
        "colab": {
          "base_uri": "https://localhost:8080/"
        }
      },
      "outputs": [
        {
          "output_type": "execute_result",
          "data": {
            "text/plain": [
              "list"
            ]
          },
          "metadata": {},
          "execution_count": 22
        }
      ],
      "source": [
        "# Construct a list of the distances\n",
        "ds = [d_ab, d_bc, d_cd]\n",
        "type(ds)"
      ]
    },
    {
      "cell_type": "markdown",
      "metadata": {
        "id": "wcQxER0RJ5eA"
      },
      "source": [
        "Here, we can easily change and element of the list. Just to show you some other ways to index a list, let's change the last element of the list."
      ]
    },
    {
      "cell_type": "code",
      "execution_count": 23,
      "metadata": {
        "id": "cW-_a6yzJ5eB",
        "outputId": "07f6fde8-21e0-4413-d4b6-b59d73adf466",
        "colab": {
          "base_uri": "https://localhost:8080/"
        }
      },
      "outputs": [
        {
          "output_type": "stream",
          "name": "stdout",
          "text": [
            "The modified list of distances is [6, 3.0, 10.0]\n"
          ]
        }
      ],
      "source": [
        "# Create the new distance\n",
        "new_d = 10.0 # m\n",
        "\n",
        "# Modify the last element of ds\n",
        "ds[-1] = new_d\n",
        "print(f'The modified list of distances is {ds}')"
      ]
    },
    {
      "cell_type": "markdown",
      "metadata": {
        "id": "GZcfg-cuJ5eB"
      },
      "source": [
        "The last basic data structure we will review is the dictionary. Dictionaries are unordered collections of key-value pairs. You can access the value of a key using indexing. Let's create a dictionary of the distances and applied loads on the beam. We create a dictionary using `{}` and separate the key-value pairs with a `:`. So the strings in the dictionary are the keys and the values are the numbers."
      ]
    },
    {
      "cell_type": "code",
      "execution_count": 24,
      "metadata": {
        "id": "RcGFWg-OJ5eL"
      },
      "outputs": [],
      "source": [
        "# Create a dictionary of the beam properties\n",
        "beam = {'d_ab': 6.0, 'd_bc': 3.0, 'd_cd': 6.0, 'F_b': 10.0, 'M_c': 30.0}"
      ]
    },
    {
      "cell_type": "markdown",
      "metadata": {
        "id": "cH9ecJNPJ5eM"
      },
      "source": [
        "We can access a value in the dictionary using the key."
      ]
    },
    {
      "cell_type": "code",
      "execution_count": 25,
      "metadata": {
        "id": "P-3RfFySJ5eM",
        "outputId": "0c0f03f6-9ff5-4103-a6f3-064255ba5610",
        "colab": {
          "base_uri": "https://localhost:8080/"
        }
      },
      "outputs": [
        {
          "output_type": "stream",
          "name": "stdout",
          "text": [
            "The applied force at point B is 10.0 kN\n"
          ]
        }
      ],
      "source": [
        "# Access the value of the applied force at point B\n",
        "F_b = beam['F_b']\n",
        "print(f'The applied force at point B is {F_b} kN')"
      ]
    },
    {
      "cell_type": "markdown",
      "metadata": {
        "id": "I3j1415wJ5eM"
      },
      "source": [
        "These structures are very useful for organizing data and can be nested inside each other to create more complex data structures. Let's create a dictionary with a tuple of the distances and a list of the applied loads, and a dictionary of the reaction forces."
      ]
    },
    {
      "cell_type": "code",
      "execution_count": 26,
      "metadata": {
        "id": "k56LHY67J5eM",
        "outputId": "34dfaa79-0146-480d-ad02-72a43a81f464",
        "colab": {
          "base_uri": "https://localhost:8080/"
        }
      },
      "outputs": [
        {
          "output_type": "stream",
          "name": "stdout",
          "text": [
            "The reaction force at point A is -30.0 kN\n"
          ]
        }
      ],
      "source": [
        "# Create a nested dictionary of the beam properties\n",
        "beam = {'distances': ds, 'applied': [F_b, M_c], 'reactions': {'A_y': A_y, 'B_y': B_y}}\n",
        "\n",
        "# Access the value of the reaction force at point A\n",
        "A_y = beam['reactions']['A_y']\n",
        "print(f'The reaction force at point A is {A_y} kN')"
      ]
    },
    {
      "cell_type": "markdown",
      "metadata": {
        "id": "HG-r-W7uJ5eM"
      },
      "source": [
        "I want you to create a nested dictionary with the courses that you are taking this semester. This should include the course name, the instructor's name, and how much you are liking it on a scale of 1 to 10. Then I want you to extract the course numbers and print the sum."
      ]
    },
    {
      "cell_type": "code",
      "execution_count": 27,
      "metadata": {
        "id": "zoY0-eASJ5eN",
        "outputId": "0af5f962-305c-4f2f-90bd-b55202c05259",
        "colab": {
          "base_uri": "https://localhost:8080/"
        }
      },
      "outputs": [
        {
          "output_type": "stream",
          "name": "stdout",
          "text": [
            "Course Dictionary:\n",
            "ECE 44000: {'instructor': 'Lehnert', 'rating': 7}\n",
            "ECE 43800: {'instructor': 'Reibman', 'rating': 9}\n",
            "ME 27000: {'instructor': 'Jones', 'rating': 9}\n",
            "ENGL 28600: {'instructor': 'Hughes', 'rating': 9}\n",
            "ECE 49401: {'instructor': 'Montgomery', 'rating': 9}\n",
            "EPCS 40200: {'instructor': 'Mohandas', 'rating': 9}\n",
            "233001\n"
          ]
        }
      ],
      "source": [
        "import random\n",
        "courses = [\n",
        "    (\"ECE 44000\", \"Lehnert\", \"8\"),\n",
        "    (\"ECE 43800\", \"Reibman\", \"7\"),\n",
        "    (\"ME 27000\", \"Jones\", \"9\"),\n",
        "    (\"ENGL 28600\", \"Hughes,\" \"10\"),\n",
        "    (\"ECE 49401\", \"Montgomery\", \"7\"),\n",
        "    (\"EPCS 40200\", \"Mohandas\", \"7\"),\n",
        "]\n",
        "print(\"Course Dictionary:\")\n",
        "for k, v in course_dict.items():\n",
        "    print(f\"{k}: {v}\")\n",
        "course_numbers = [int(course.split()[1]) for course in course_dict]\n",
        "total = sum(course_numbers)\n",
        "print(total)\n"
      ]
    },
    {
      "cell_type": "markdown",
      "metadata": {
        "id": "FmOror4vJ5eN"
      },
      "source": [
        "### Question 3 - Control Structures\n",
        "\n",
        "For loops, conditional statements, and functions are the basic control structures in Python. Let's start with for loops. For loops are used to iterate over a sequence of elements. You can use a for loop to iterate over a list, tuple, or dictionary.\n",
        "\n",
        "Let's iterate over the distances tuple and convert it to different units."
      ]
    },
    {
      "cell_type": "code",
      "execution_count": 28,
      "metadata": {
        "id": "9BLqtQYtJ5eN",
        "outputId": "56f51272-22d4-4d73-de00-86080e059b41",
        "colab": {
          "base_uri": "https://localhost:8080/"
        }
      },
      "outputs": [
        {
          "output_type": "stream",
          "name": "stdout",
          "text": [
            "The distances in cm are [600, 300.0, 1000.0]\n"
          ]
        }
      ],
      "source": [
        "# Initalize a list to store the distances in cm\n",
        "ds_cm = []\n",
        "\n",
        "# Iterate over each distance in the list\n",
        "for d in ds:\n",
        "    ds_cm.append(d * 100)\n",
        "\n",
        "print(f'The distances in cm are {ds_cm}')"
      ]
    },
    {
      "cell_type": "markdown",
      "metadata": {
        "id": "5ibdXakjJ5eN"
      },
      "source": [
        "Python has in-line for loops called list comprehensions. These are a more concise way to write for loops. Let's convert the distances tuple to a list using a list comprehension. Writing code like this is more \"Pythonic\" and is generally preferred."
      ]
    },
    {
      "cell_type": "code",
      "execution_count": 29,
      "metadata": {
        "id": "RsaYmmYPJ5eN"
      },
      "outputs": [],
      "source": [
        "# Create a list comprehension to convert the distances to cm\n",
        "ds_cm = [d * 100 for d in ds]"
      ]
    },
    {
      "cell_type": "markdown",
      "metadata": {
        "id": "XQs5KU5mJ5eN"
      },
      "source": [
        "Let's integrate loops with conditional statements. Conditional statements are used to execute different blocks of code based on the truth value of a condition. The basic conditional statements in Python are `if`, `elif`, and `else`."
      ]
    },
    {
      "cell_type": "code",
      "execution_count": 30,
      "metadata": {
        "id": "k2xfT8DWJ5eN",
        "outputId": "37be7355-92c0-45a9-8222-de05c394d3a1",
        "colab": {
          "base_uri": "https://localhost:8080/"
        }
      },
      "outputs": [
        {
          "output_type": "stream",
          "name": "stdout",
          "text": [
            "The distances are [6, 3.0, 10.0]\n",
            "The applied forces are [10.0, 30.0]\n",
            "The reaction forces are {'A_y': -30.0, 'B_y': 2.0}\n"
          ]
        }
      ],
      "source": [
        "# Loop through applied and reaction forces\n",
        "for key, value in beam.items():\n",
        "    if key == 'applied':\n",
        "        print(f'The applied forces are {value}')\n",
        "    elif key == 'reactions':\n",
        "        print(f'The reaction forces are {value}')\n",
        "    else:\n",
        "        print(f'The distances are {value}')"
      ]
    },
    {
      "cell_type": "markdown",
      "metadata": {
        "id": "JO0yAZQSJ5eO"
      },
      "source": [
        "I want you to use loops and conditional statements to convert the forces from kN to N, reassign the values to the dictionary, and print the dictionary."
      ]
    },
    {
      "cell_type": "code",
      "execution_count": 38,
      "metadata": {
        "id": "3n2QrUXMJ5eO",
        "outputId": "fb1d1032-cf2d-4507-f594-1a2021527d81",
        "colab": {
          "base_uri": "https://localhost:8080/"
        }
      },
      "outputs": [
        {
          "output_type": "stream",
          "name": "stdout",
          "text": [
            "The distances are [6, 3.0, 10.0]\n",
            "The applied forces are [0.01, 0.03]\n",
            "The reaction forces are {'A_y': -30.0, 'B_y': 2.0}\n"
          ]
        }
      ],
      "source": [
        "# YOUR CODE HERE\n",
        "i = 0\n",
        "while i < 2:\n",
        "  value[i] = value[i]/1000\n",
        "  i = i + 1\n",
        "for key, value in beam.items():\n",
        "  if key == 'applied':\n",
        "    print(f'The applied forces are {value}')\n",
        "  elif key == 'reactions':\n",
        "    print(f'The reaction forces are {value}')\n",
        "  else:\n",
        "    print(f'The distances are {value}')"
      ]
    },
    {
      "cell_type": "markdown",
      "metadata": {
        "id": "FX37x_GBJ5eP"
      },
      "source": [
        "### Question 4 - Functions\n",
        "\n",
        "In order to calculate the shear force and bending moment at different points along the beam, we will need to write functions to perform these calculations. Functions are reusable blocks of code that perform a specific task. They can take arguments and return values.\n",
        "\n",
        "The shear force at point B is a trivial calculation. The sum of the forces in the y-direction must be zero.\n",
        "\n",
        "$$\n",
        "\\sum F_y = 0\n",
        "$$\n",
        "\n",
        "$$\n",
        "\\sum F_y = A_y - V_{AB}\n",
        "$$\n",
        "\n",
        "Where $V_{AB}$ is the shear force at point B. Let's solve for $V_{AB}$."
      ]
    },
    {
      "cell_type": "code",
      "execution_count": null,
      "metadata": {
        "id": "vxBJt0b2J5eP",
        "outputId": "5a3c1b0f-c2fc-48b5-94b8-cae0b1213c9c"
      },
      "outputs": [
        {
          "name": "stdout",
          "output_type": "stream",
          "text": [
            "The shear force at point B is 8.0 kN\n"
          ]
        }
      ],
      "source": [
        "def calc_V_ab(A_y):\n",
        "    \"\"\"\n",
        "    Calculate the shear force at point B.\n",
        "\n",
        "    Parameters:\n",
        "    A_y : float\n",
        "        The reaction force at point A in kN.\n",
        "\n",
        "    Returns:\n",
        "    V_ab : float\n",
        "        The shear forcein kN.\n",
        "    \"\"\"\n",
        "    V_ab = A_y\n",
        "    return V_ab\n",
        "\n",
        "V_b = calc_V_ab(A_y)\n",
        "print(f'The shear force at point B is {V_b} kN')"
      ]
    },
    {
      "cell_type": "markdown",
      "metadata": {
        "id": "5NdLZv35J5eP"
      },
      "source": [
        "The function begins with the `def` keyword, followed by the function name and the arguments in parentheses. Following is what is called a docstring, which is a string that describes the purpose of the function. It is best practice to include a docstring in your functions, so that others can understand what the function does.\n",
        "The function body is indented. The function returns a value using the `return` keyword.\n",
        "\n",
        "Let's do it again for the shear force at point C."
      ]
    },
    {
      "cell_type": "code",
      "execution_count": null,
      "metadata": {
        "id": "yHo06BlCJ5eQ",
        "outputId": "c53a1e52-401a-4548-ce4f-583651676764"
      },
      "outputs": [
        {
          "name": "stdout",
          "output_type": "stream",
          "text": [
            "The shear force at point C is -2.0 kN\n"
          ]
        }
      ],
      "source": [
        "def calc_V_bc(F_b, A_y):\n",
        "    \"\"\"\n",
        "    Calculate the shear force at point C.\n",
        "\n",
        "    Parameters:\n",
        "    F_b : float\n",
        "        The applied force at point B in kN.\n",
        "    A_y : float\n",
        "        The reaction force at point A in kN.\n",
        "\n",
        "    Returns:\n",
        "    V_bc : float\n",
        "        The shear force in kN.\n",
        "    \"\"\"\n",
        "    V_bc = A_y - F_b\n",
        "    return V_bc\n",
        "\n",
        "V_c = calc_V_bc(F_b, A_y)\n",
        "print(f'The shear force at point C is {V_c} kN')"
      ]
    },
    {
      "cell_type": "markdown",
      "metadata": {
        "id": "Pgd8erXlJ5eR"
      },
      "source": [
        "I want you to write functions to calculate the bending moment in the rest of the beam."
      ]
    },
    {
      "cell_type": "code",
      "execution_count": 40,
      "metadata": {
        "id": "mmFsb_9TJ5eR"
      },
      "outputs": [],
      "source": [
        "# YOUR CODE HERE\n",
        "def calc_M_bc(A_y, F_b, x_c, x_b):\n",
        "    M_bc = A_y * x_c - F_b * (x_c - x_b)\n",
        "    return M_bc\n"
      ]
    },
    {
      "cell_type": "markdown",
      "metadata": {
        "id": "8Py-pgr8J5eR"
      },
      "source": [
        "### Question 5 - Plotting shear force and bending moment diagrams\n",
        "\n",
        "Great! Now we can put it all together to plot the shear force and bending moment diagrams. We will use the `matplotlib` library to plot the diagrams and `numpy` to help assist with our numerical computations. I have imported the libaries already, but when you are working on your own, you will need to import them.\n",
        "\n",
        "We want to plot at arbitrary points along the beam, so we will need to create an array of x-values. We can use the `np.linspace()` function to create an array of evenly spaced values along the length of the beam"
      ]
    },
    {
      "cell_type": "code",
      "execution_count": null,
      "metadata": {
        "id": "rbT0r_3SJ5eR"
      },
      "outputs": [],
      "source": [
        "x = np.linspace(0, L, 100)"
      ]
    },
    {
      "cell_type": "markdown",
      "metadata": {
        "id": "jzVzOGoSJ5eR"
      },
      "source": [
        "I am going to create the shear force diagram for you. First let's initalize our shear force array."
      ]
    },
    {
      "cell_type": "code",
      "execution_count": null,
      "metadata": {
        "id": "wtqgTPsuJ5eS"
      },
      "outputs": [],
      "source": [
        "shear = np.zeros_like(x)"
      ]
    },
    {
      "cell_type": "markdown",
      "metadata": {
        "id": "E2HS-4UJJ5eS"
      },
      "source": [
        "Now we will loop through the x-values and calculate the shear force at each point. We will use the conditionals to determine which function to use at each segment."
      ]
    },
    {
      "cell_type": "code",
      "execution_count": null,
      "metadata": {
        "id": "yoJ0tmM4J5eS"
      },
      "outputs": [],
      "source": [
        "for i, xi in enumerate(x):\n",
        "    if xi <= d_ab:\n",
        "        shear[i] = calc_V_ab(A_y)\n",
        "    else:\n",
        "        shear[i] = calc_V_bc(F_b, A_y)"
      ]
    },
    {
      "cell_type": "markdown",
      "metadata": {
        "id": "A7XVBtWvJ5eS"
      },
      "source": [
        "Let's plot the shear force diagram. Always title your plot and label your axes with units. A lot of the rest of plotting is just formatting the plot to make it look nice."
      ]
    },
    {
      "cell_type": "code",
      "execution_count": null,
      "metadata": {
        "id": "pcnC5ThnJ5eS",
        "outputId": "6ec25b2f-ea08-496b-dada-f20e01c36a51"
      },
      "outputs": [
        {
          "data": {
            "image/svg+xml": [
              "<?xml version=\"1.0\" encoding=\"utf-8\" standalone=\"no\"?>\n",
              "<!DOCTYPE svg PUBLIC \"-//W3C//DTD SVG 1.1//EN\"\n",
              "  \"http://www.w3.org/Graphics/SVG/1.1/DTD/svg11.dtd\">\n",
              "<svg xmlns:xlink=\"http://www.w3.org/1999/xlink\" width=\"402.862375pt\" height=\"322.857375pt\" viewBox=\"0 0 402.862375 322.857375\" xmlns=\"http://www.w3.org/2000/svg\" version=\"1.1\">\n",
              " <metadata>\n",
              "  <rdf:RDF xmlns:dc=\"http://purl.org/dc/elements/1.1/\" xmlns:cc=\"http://creativecommons.org/ns#\" xmlns:rdf=\"http://www.w3.org/1999/02/22-rdf-syntax-ns#\">\n",
              "   <cc:Work>\n",
              "    <dc:type rdf:resource=\"http://purl.org/dc/dcmitype/StillImage\"/>\n",
              "    <dc:date>2025-02-03T23:15:19.227410</dc:date>\n",
              "    <dc:format>image/svg+xml</dc:format>\n",
              "    <dc:creator>\n",
              "     <cc:Agent>\n",
              "      <dc:title>Matplotlib v3.9.0, https://matplotlib.org/</dc:title>\n",
              "     </cc:Agent>\n",
              "    </dc:creator>\n",
              "   </cc:Work>\n",
              "  </rdf:RDF>\n",
              " </metadata>\n",
              " <defs>\n",
              "  <style type=\"text/css\">*{stroke-linejoin: round; stroke-linecap: butt}</style>\n",
              " </defs>\n",
              " <g id=\"figure_1\">\n",
              "  <g id=\"patch_1\">\n",
              "   <path d=\"M 0 322.857375 \n",
              "L 402.862375 322.857375 \n",
              "L 402.862375 0 \n",
              "L 0 0 \n",
              "z\n",
              "\" style=\"fill: #ffffff\"/>\n",
              "  </g>\n",
              "  <g id=\"axes_1\">\n",
              "   <g id=\"patch_2\">\n",
              "    <path d=\"M 38.542375 286.3005 \n",
              "L 395.662375 286.3005 \n",
              "L 395.662375 20.1885 \n",
              "L 38.542375 20.1885 \n",
              "z\n",
              "\" style=\"fill: #ffffff\"/>\n",
              "   </g>\n",
              "   <g id=\"matplotlib.axis_1\">\n",
              "    <g id=\"xtick_1\">\n",
              "     <g id=\"line2d_1\">\n",
              "      <path d=\"M 54.775102 286.3005 \n",
              "L 54.775102 20.1885 \n",
              "\" clip-path=\"url(#p547fe2f367)\" style=\"fill: none; stroke: #cccccc; stroke-width: 0.8; stroke-linecap: round\"/>\n",
              "     </g>\n",
              "     <g id=\"line2d_2\">\n",
              "      <defs>\n",
              "       <path id=\"m54363621af\" d=\"M 0 0 \n",
              "L 0 4.8 \n",
              "\" style=\"stroke: #262626\"/>\n",
              "      </defs>\n",
              "      <g>\n",
              "       <use xlink:href=\"#m54363621af\" x=\"54.775102\" y=\"286.3005\" style=\"fill: #262626; stroke: #262626\"/>\n",
              "      </g>\n",
              "     </g>\n",
              "     <g id=\"text_1\">\n",
              "      <!-- 0 -->\n",
              "      <g style=\"fill: #262626\" transform=\"translate(52.32829 300.899375) scale(0.088 -0.088)\">\n",
              "       <defs>\n",
              "        <path id=\"ArialMT-30\" d=\"M 266 2259 \n",
              "Q 266 3072 433 3567 \n",
              "Q 600 4063 929 4331 \n",
              "Q 1259 4600 1759 4600 \n",
              "Q 2128 4600 2406 4451 \n",
              "Q 2684 4303 2865 4023 \n",
              "Q 3047 3744 3150 3342 \n",
              "Q 3253 2941 3253 2259 \n",
              "Q 3253 1453 3087 958 \n",
              "Q 2922 463 2592 192 \n",
              "Q 2263 -78 1759 -78 \n",
              "Q 1097 -78 719 397 \n",
              "Q 266 969 266 2259 \n",
              "z\n",
              "M 844 2259 \n",
              "Q 844 1131 1108 757 \n",
              "Q 1372 384 1759 384 \n",
              "Q 2147 384 2411 759 \n",
              "Q 2675 1134 2675 2259 \n",
              "Q 2675 3391 2411 3762 \n",
              "Q 2147 4134 1753 4134 \n",
              "Q 1366 4134 1134 3806 \n",
              "Q 844 3388 844 2259 \n",
              "z\n",
              "\" transform=\"scale(0.015625)\"/>\n",
              "       </defs>\n",
              "       <use xlink:href=\"#ArialMT-30\"/>\n",
              "      </g>\n",
              "     </g>\n",
              "    </g>\n",
              "    <g id=\"xtick_2\">\n",
              "     <g id=\"line2d_3\">\n",
              "      <path d=\"M 98.062375 286.3005 \n",
              "L 98.062375 20.1885 \n",
              "\" clip-path=\"url(#p547fe2f367)\" style=\"fill: none; stroke: #cccccc; stroke-width: 0.8; stroke-linecap: round\"/>\n",
              "     </g>\n",
              "     <g id=\"line2d_4\">\n",
              "      <g>\n",
              "       <use xlink:href=\"#m54363621af\" x=\"98.062375\" y=\"286.3005\" style=\"fill: #262626; stroke: #262626\"/>\n",
              "      </g>\n",
              "     </g>\n",
              "     <g id=\"text_2\">\n",
              "      <!-- 2 -->\n",
              "      <g style=\"fill: #262626\" transform=\"translate(95.615563 300.899375) scale(0.088 -0.088)\">\n",
              "       <defs>\n",
              "        <path id=\"ArialMT-32\" d=\"M 3222 541 \n",
              "L 3222 0 \n",
              "L 194 0 \n",
              "Q 188 203 259 391 \n",
              "Q 375 700 629 1000 \n",
              "Q 884 1300 1366 1694 \n",
              "Q 2113 2306 2375 2664 \n",
              "Q 2638 3022 2638 3341 \n",
              "Q 2638 3675 2398 3904 \n",
              "Q 2159 4134 1775 4134 \n",
              "Q 1369 4134 1125 3890 \n",
              "Q 881 3647 878 3216 \n",
              "L 300 3275 \n",
              "Q 359 3922 746 4261 \n",
              "Q 1134 4600 1788 4600 \n",
              "Q 2447 4600 2831 4234 \n",
              "Q 3216 3869 3216 3328 \n",
              "Q 3216 3053 3103 2787 \n",
              "Q 2991 2522 2730 2228 \n",
              "Q 2469 1934 1863 1422 \n",
              "Q 1356 997 1212 845 \n",
              "Q 1069 694 975 541 \n",
              "L 3222 541 \n",
              "z\n",
              "\" transform=\"scale(0.015625)\"/>\n",
              "       </defs>\n",
              "       <use xlink:href=\"#ArialMT-32\"/>\n",
              "      </g>\n",
              "     </g>\n",
              "    </g>\n",
              "    <g id=\"xtick_3\">\n",
              "     <g id=\"line2d_5\">\n",
              "      <path d=\"M 141.349648 286.3005 \n",
              "L 141.349648 20.1885 \n",
              "\" clip-path=\"url(#p547fe2f367)\" style=\"fill: none; stroke: #cccccc; stroke-width: 0.8; stroke-linecap: round\"/>\n",
              "     </g>\n",
              "     <g id=\"line2d_6\">\n",
              "      <g>\n",
              "       <use xlink:href=\"#m54363621af\" x=\"141.349648\" y=\"286.3005\" style=\"fill: #262626; stroke: #262626\"/>\n",
              "      </g>\n",
              "     </g>\n",
              "     <g id=\"text_3\">\n",
              "      <!-- 4 -->\n",
              "      <g style=\"fill: #262626\" transform=\"translate(138.902835 300.899375) scale(0.088 -0.088)\">\n",
              "       <defs>\n",
              "        <path id=\"ArialMT-34\" d=\"M 2069 0 \n",
              "L 2069 1097 \n",
              "L 81 1097 \n",
              "L 81 1613 \n",
              "L 2172 4581 \n",
              "L 2631 4581 \n",
              "L 2631 1613 \n",
              "L 3250 1613 \n",
              "L 3250 1097 \n",
              "L 2631 1097 \n",
              "L 2631 0 \n",
              "L 2069 0 \n",
              "z\n",
              "M 2069 1613 \n",
              "L 2069 3678 \n",
              "L 634 1613 \n",
              "L 2069 1613 \n",
              "z\n",
              "\" transform=\"scale(0.015625)\"/>\n",
              "       </defs>\n",
              "       <use xlink:href=\"#ArialMT-34\"/>\n",
              "      </g>\n",
              "     </g>\n",
              "    </g>\n",
              "    <g id=\"xtick_4\">\n",
              "     <g id=\"line2d_7\">\n",
              "      <path d=\"M 184.63692 286.3005 \n",
              "L 184.63692 20.1885 \n",
              "\" clip-path=\"url(#p547fe2f367)\" style=\"fill: none; stroke: #cccccc; stroke-width: 0.8; stroke-linecap: round\"/>\n",
              "     </g>\n",
              "     <g id=\"line2d_8\">\n",
              "      <g>\n",
              "       <use xlink:href=\"#m54363621af\" x=\"184.63692\" y=\"286.3005\" style=\"fill: #262626; stroke: #262626\"/>\n",
              "      </g>\n",
              "     </g>\n",
              "     <g id=\"text_4\">\n",
              "      <!-- 6 -->\n",
              "      <g style=\"fill: #262626\" transform=\"translate(182.190108 300.899375) scale(0.088 -0.088)\">\n",
              "       <defs>\n",
              "        <path id=\"ArialMT-36\" d=\"M 3184 3459 \n",
              "L 2625 3416 \n",
              "Q 2550 3747 2413 3897 \n",
              "Q 2184 4138 1850 4138 \n",
              "Q 1581 4138 1378 3988 \n",
              "Q 1113 3794 959 3422 \n",
              "Q 806 3050 800 2363 \n",
              "Q 1003 2672 1297 2822 \n",
              "Q 1591 2972 1913 2972 \n",
              "Q 2475 2972 2870 2558 \n",
              "Q 3266 2144 3266 1488 \n",
              "Q 3266 1056 3080 686 \n",
              "Q 2894 316 2569 119 \n",
              "Q 2244 -78 1831 -78 \n",
              "Q 1128 -78 684 439 \n",
              "Q 241 956 241 2144 \n",
              "Q 241 3472 731 4075 \n",
              "Q 1159 4600 1884 4600 \n",
              "Q 2425 4600 2770 4297 \n",
              "Q 3116 3994 3184 3459 \n",
              "z\n",
              "M 888 1484 \n",
              "Q 888 1194 1011 928 \n",
              "Q 1134 663 1356 523 \n",
              "Q 1578 384 1822 384 \n",
              "Q 2178 384 2434 671 \n",
              "Q 2691 959 2691 1453 \n",
              "Q 2691 1928 2437 2201 \n",
              "Q 2184 2475 1800 2475 \n",
              "Q 1419 2475 1153 2201 \n",
              "Q 888 1928 888 1484 \n",
              "z\n",
              "\" transform=\"scale(0.015625)\"/>\n",
              "       </defs>\n",
              "       <use xlink:href=\"#ArialMT-36\"/>\n",
              "      </g>\n",
              "     </g>\n",
              "    </g>\n",
              "    <g id=\"xtick_5\">\n",
              "     <g id=\"line2d_9\">\n",
              "      <path d=\"M 227.924193 286.3005 \n",
              "L 227.924193 20.1885 \n",
              "\" clip-path=\"url(#p547fe2f367)\" style=\"fill: none; stroke: #cccccc; stroke-width: 0.8; stroke-linecap: round\"/>\n",
              "     </g>\n",
              "     <g id=\"line2d_10\">\n",
              "      <g>\n",
              "       <use xlink:href=\"#m54363621af\" x=\"227.924193\" y=\"286.3005\" style=\"fill: #262626; stroke: #262626\"/>\n",
              "      </g>\n",
              "     </g>\n",
              "     <g id=\"text_5\">\n",
              "      <!-- 8 -->\n",
              "      <g style=\"fill: #262626\" transform=\"translate(225.477381 300.899375) scale(0.088 -0.088)\">\n",
              "       <defs>\n",
              "        <path id=\"ArialMT-38\" d=\"M 1131 2484 \n",
              "Q 781 2613 612 2850 \n",
              "Q 444 3088 444 3419 \n",
              "Q 444 3919 803 4259 \n",
              "Q 1163 4600 1759 4600 \n",
              "Q 2359 4600 2725 4251 \n",
              "Q 3091 3903 3091 3403 \n",
              "Q 3091 3084 2923 2848 \n",
              "Q 2756 2613 2416 2484 \n",
              "Q 2838 2347 3058 2040 \n",
              "Q 3278 1734 3278 1309 \n",
              "Q 3278 722 2862 322 \n",
              "Q 2447 -78 1769 -78 \n",
              "Q 1091 -78 675 323 \n",
              "Q 259 725 259 1325 \n",
              "Q 259 1772 486 2073 \n",
              "Q 713 2375 1131 2484 \n",
              "z\n",
              "M 1019 3438 \n",
              "Q 1019 3113 1228 2906 \n",
              "Q 1438 2700 1772 2700 \n",
              "Q 2097 2700 2305 2904 \n",
              "Q 2513 3109 2513 3406 \n",
              "Q 2513 3716 2298 3927 \n",
              "Q 2084 4138 1766 4138 \n",
              "Q 1444 4138 1231 3931 \n",
              "Q 1019 3725 1019 3438 \n",
              "z\n",
              "M 838 1322 \n",
              "Q 838 1081 952 856 \n",
              "Q 1066 631 1291 507 \n",
              "Q 1516 384 1775 384 \n",
              "Q 2178 384 2440 643 \n",
              "Q 2703 903 2703 1303 \n",
              "Q 2703 1709 2433 1975 \n",
              "Q 2163 2241 1756 2241 \n",
              "Q 1359 2241 1098 1978 \n",
              "Q 838 1716 838 1322 \n",
              "z\n",
              "\" transform=\"scale(0.015625)\"/>\n",
              "       </defs>\n",
              "       <use xlink:href=\"#ArialMT-38\"/>\n",
              "      </g>\n",
              "     </g>\n",
              "    </g>\n",
              "    <g id=\"xtick_6\">\n",
              "     <g id=\"line2d_11\">\n",
              "      <path d=\"M 271.211466 286.3005 \n",
              "L 271.211466 20.1885 \n",
              "\" clip-path=\"url(#p547fe2f367)\" style=\"fill: none; stroke: #cccccc; stroke-width: 0.8; stroke-linecap: round\"/>\n",
              "     </g>\n",
              "     <g id=\"line2d_12\">\n",
              "      <g>\n",
              "       <use xlink:href=\"#m54363621af\" x=\"271.211466\" y=\"286.3005\" style=\"fill: #262626; stroke: #262626\"/>\n",
              "      </g>\n",
              "     </g>\n",
              "     <g id=\"text_6\">\n",
              "      <!-- 10 -->\n",
              "      <g style=\"fill: #262626\" transform=\"translate(266.317841 300.899375) scale(0.088 -0.088)\">\n",
              "       <defs>\n",
              "        <path id=\"ArialMT-31\" d=\"M 2384 0 \n",
              "L 1822 0 \n",
              "L 1822 3584 \n",
              "Q 1619 3391 1289 3197 \n",
              "Q 959 3003 697 2906 \n",
              "L 697 3450 \n",
              "Q 1169 3672 1522 3987 \n",
              "Q 1875 4303 2022 4600 \n",
              "L 2384 4600 \n",
              "L 2384 0 \n",
              "z\n",
              "\" transform=\"scale(0.015625)\"/>\n",
              "       </defs>\n",
              "       <use xlink:href=\"#ArialMT-31\"/>\n",
              "       <use xlink:href=\"#ArialMT-30\" x=\"55.615234\"/>\n",
              "      </g>\n",
              "     </g>\n",
              "    </g>\n",
              "    <g id=\"xtick_7\">\n",
              "     <g id=\"line2d_13\">\n",
              "      <path d=\"M 314.498739 286.3005 \n",
              "L 314.498739 20.1885 \n",
              "\" clip-path=\"url(#p547fe2f367)\" style=\"fill: none; stroke: #cccccc; stroke-width: 0.8; stroke-linecap: round\"/>\n",
              "     </g>\n",
              "     <g id=\"line2d_14\">\n",
              "      <g>\n",
              "       <use xlink:href=\"#m54363621af\" x=\"314.498739\" y=\"286.3005\" style=\"fill: #262626; stroke: #262626\"/>\n",
              "      </g>\n",
              "     </g>\n",
              "     <g id=\"text_7\">\n",
              "      <!-- 12 -->\n",
              "      <g style=\"fill: #262626\" transform=\"translate(309.605114 300.899375) scale(0.088 -0.088)\">\n",
              "       <use xlink:href=\"#ArialMT-31\"/>\n",
              "       <use xlink:href=\"#ArialMT-32\" x=\"55.615234\"/>\n",
              "      </g>\n",
              "     </g>\n",
              "    </g>\n",
              "    <g id=\"xtick_8\">\n",
              "     <g id=\"line2d_15\">\n",
              "      <path d=\"M 357.786011 286.3005 \n",
              "L 357.786011 20.1885 \n",
              "\" clip-path=\"url(#p547fe2f367)\" style=\"fill: none; stroke: #cccccc; stroke-width: 0.8; stroke-linecap: round\"/>\n",
              "     </g>\n",
              "     <g id=\"line2d_16\">\n",
              "      <g>\n",
              "       <use xlink:href=\"#m54363621af\" x=\"357.786011\" y=\"286.3005\" style=\"fill: #262626; stroke: #262626\"/>\n",
              "      </g>\n",
              "     </g>\n",
              "     <g id=\"text_8\">\n",
              "      <!-- 14 -->\n",
              "      <g style=\"fill: #262626\" transform=\"translate(352.892386 300.899375) scale(0.088 -0.088)\">\n",
              "       <use xlink:href=\"#ArialMT-31\"/>\n",
              "       <use xlink:href=\"#ArialMT-34\" x=\"55.615234\"/>\n",
              "      </g>\n",
              "     </g>\n",
              "    </g>\n",
              "    <g id=\"text_9\">\n",
              "     <!-- Distance (m) -->\n",
              "     <g style=\"fill: #262626\" transform=\"translate(189.899875 313.636875) scale(0.096 -0.096)\">\n",
              "      <defs>\n",
              "       <path id=\"ArialMT-44\" d=\"M 494 0 \n",
              "L 494 4581 \n",
              "L 2072 4581 \n",
              "Q 2606 4581 2888 4516 \n",
              "Q 3281 4425 3559 4188 \n",
              "Q 3922 3881 4101 3404 \n",
              "Q 4281 2928 4281 2316 \n",
              "Q 4281 1794 4159 1391 \n",
              "Q 4038 988 3847 723 \n",
              "Q 3656 459 3429 307 \n",
              "Q 3203 156 2883 78 \n",
              "Q 2563 0 2147 0 \n",
              "L 494 0 \n",
              "z\n",
              "M 1100 541 \n",
              "L 2078 541 \n",
              "Q 2531 541 2789 625 \n",
              "Q 3047 709 3200 863 \n",
              "Q 3416 1078 3536 1442 \n",
              "Q 3656 1806 3656 2325 \n",
              "Q 3656 3044 3420 3430 \n",
              "Q 3184 3816 2847 3947 \n",
              "Q 2603 4041 2063 4041 \n",
              "L 1100 4041 \n",
              "L 1100 541 \n",
              "z\n",
              "\" transform=\"scale(0.015625)\"/>\n",
              "       <path id=\"ArialMT-69\" d=\"M 425 3934 \n",
              "L 425 4581 \n",
              "L 988 4581 \n",
              "L 988 3934 \n",
              "L 425 3934 \n",
              "z\n",
              "M 425 0 \n",
              "L 425 3319 \n",
              "L 988 3319 \n",
              "L 988 0 \n",
              "L 425 0 \n",
              "z\n",
              "\" transform=\"scale(0.015625)\"/>\n",
              "       <path id=\"ArialMT-73\" d=\"M 197 991 \n",
              "L 753 1078 \n",
              "Q 800 744 1014 566 \n",
              "Q 1228 388 1613 388 \n",
              "Q 2000 388 2187 545 \n",
              "Q 2375 703 2375 916 \n",
              "Q 2375 1106 2209 1216 \n",
              "Q 2094 1291 1634 1406 \n",
              "Q 1016 1563 777 1677 \n",
              "Q 538 1791 414 1992 \n",
              "Q 291 2194 291 2438 \n",
              "Q 291 2659 392 2848 \n",
              "Q 494 3038 669 3163 \n",
              "Q 800 3259 1026 3326 \n",
              "Q 1253 3394 1513 3394 \n",
              "Q 1903 3394 2198 3281 \n",
              "Q 2494 3169 2634 2976 \n",
              "Q 2775 2784 2828 2463 \n",
              "L 2278 2388 \n",
              "Q 2241 2644 2061 2787 \n",
              "Q 1881 2931 1553 2931 \n",
              "Q 1166 2931 1000 2803 \n",
              "Q 834 2675 834 2503 \n",
              "Q 834 2394 903 2306 \n",
              "Q 972 2216 1119 2156 \n",
              "Q 1203 2125 1616 2013 \n",
              "Q 2213 1853 2448 1751 \n",
              "Q 2684 1650 2818 1456 \n",
              "Q 2953 1263 2953 975 \n",
              "Q 2953 694 2789 445 \n",
              "Q 2625 197 2315 61 \n",
              "Q 2006 -75 1616 -75 \n",
              "Q 969 -75 630 194 \n",
              "Q 291 463 197 991 \n",
              "z\n",
              "\" transform=\"scale(0.015625)\"/>\n",
              "       <path id=\"ArialMT-74\" d=\"M 1650 503 \n",
              "L 1731 6 \n",
              "Q 1494 -44 1306 -44 \n",
              "Q 1000 -44 831 53 \n",
              "Q 663 150 594 308 \n",
              "Q 525 466 525 972 \n",
              "L 525 2881 \n",
              "L 113 2881 \n",
              "L 113 3319 \n",
              "L 525 3319 \n",
              "L 525 4141 \n",
              "L 1084 4478 \n",
              "L 1084 3319 \n",
              "L 1650 3319 \n",
              "L 1650 2881 \n",
              "L 1084 2881 \n",
              "L 1084 941 \n",
              "Q 1084 700 1114 631 \n",
              "Q 1144 563 1211 522 \n",
              "Q 1278 481 1403 481 \n",
              "Q 1497 481 1650 503 \n",
              "z\n",
              "\" transform=\"scale(0.015625)\"/>\n",
              "       <path id=\"ArialMT-61\" d=\"M 2588 409 \n",
              "Q 2275 144 1986 34 \n",
              "Q 1697 -75 1366 -75 \n",
              "Q 819 -75 525 192 \n",
              "Q 231 459 231 875 \n",
              "Q 231 1119 342 1320 \n",
              "Q 453 1522 633 1644 \n",
              "Q 813 1766 1038 1828 \n",
              "Q 1203 1872 1538 1913 \n",
              "Q 2219 1994 2541 2106 \n",
              "Q 2544 2222 2544 2253 \n",
              "Q 2544 2597 2384 2738 \n",
              "Q 2169 2928 1744 2928 \n",
              "Q 1347 2928 1158 2789 \n",
              "Q 969 2650 878 2297 \n",
              "L 328 2372 \n",
              "Q 403 2725 575 2942 \n",
              "Q 747 3159 1072 3276 \n",
              "Q 1397 3394 1825 3394 \n",
              "Q 2250 3394 2515 3294 \n",
              "Q 2781 3194 2906 3042 \n",
              "Q 3031 2891 3081 2659 \n",
              "Q 3109 2516 3109 2141 \n",
              "L 3109 1391 \n",
              "Q 3109 606 3145 398 \n",
              "Q 3181 191 3288 0 \n",
              "L 2700 0 \n",
              "Q 2613 175 2588 409 \n",
              "z\n",
              "M 2541 1666 \n",
              "Q 2234 1541 1622 1453 \n",
              "Q 1275 1403 1131 1340 \n",
              "Q 988 1278 909 1158 \n",
              "Q 831 1038 831 891 \n",
              "Q 831 666 1001 516 \n",
              "Q 1172 366 1500 366 \n",
              "Q 1825 366 2078 508 \n",
              "Q 2331 650 2450 897 \n",
              "Q 2541 1088 2541 1459 \n",
              "L 2541 1666 \n",
              "z\n",
              "\" transform=\"scale(0.015625)\"/>\n",
              "       <path id=\"ArialMT-6e\" d=\"M 422 0 \n",
              "L 422 3319 \n",
              "L 928 3319 \n",
              "L 928 2847 \n",
              "Q 1294 3394 1984 3394 \n",
              "Q 2284 3394 2536 3286 \n",
              "Q 2788 3178 2913 3003 \n",
              "Q 3038 2828 3088 2588 \n",
              "Q 3119 2431 3119 2041 \n",
              "L 3119 0 \n",
              "L 2556 0 \n",
              "L 2556 2019 \n",
              "Q 2556 2363 2490 2533 \n",
              "Q 2425 2703 2258 2804 \n",
              "Q 2091 2906 1866 2906 \n",
              "Q 1506 2906 1245 2678 \n",
              "Q 984 2450 984 1813 \n",
              "L 984 0 \n",
              "L 422 0 \n",
              "z\n",
              "\" transform=\"scale(0.015625)\"/>\n",
              "       <path id=\"ArialMT-63\" d=\"M 2588 1216 \n",
              "L 3141 1144 \n",
              "Q 3050 572 2676 248 \n",
              "Q 2303 -75 1759 -75 \n",
              "Q 1078 -75 664 370 \n",
              "Q 250 816 250 1647 \n",
              "Q 250 2184 428 2587 \n",
              "Q 606 2991 970 3192 \n",
              "Q 1334 3394 1763 3394 \n",
              "Q 2303 3394 2647 3120 \n",
              "Q 2991 2847 3088 2344 \n",
              "L 2541 2259 \n",
              "Q 2463 2594 2264 2762 \n",
              "Q 2066 2931 1784 2931 \n",
              "Q 1359 2931 1093 2626 \n",
              "Q 828 2322 828 1663 \n",
              "Q 828 994 1084 691 \n",
              "Q 1341 388 1753 388 \n",
              "Q 2084 388 2306 591 \n",
              "Q 2528 794 2588 1216 \n",
              "z\n",
              "\" transform=\"scale(0.015625)\"/>\n",
              "       <path id=\"ArialMT-65\" d=\"M 2694 1069 \n",
              "L 3275 997 \n",
              "Q 3138 488 2766 206 \n",
              "Q 2394 -75 1816 -75 \n",
              "Q 1088 -75 661 373 \n",
              "Q 234 822 234 1631 \n",
              "Q 234 2469 665 2931 \n",
              "Q 1097 3394 1784 3394 \n",
              "Q 2450 3394 2872 2941 \n",
              "Q 3294 2488 3294 1666 \n",
              "Q 3294 1616 3291 1516 \n",
              "L 816 1516 \n",
              "Q 847 969 1125 678 \n",
              "Q 1403 388 1819 388 \n",
              "Q 2128 388 2347 550 \n",
              "Q 2566 713 2694 1069 \n",
              "z\n",
              "M 847 1978 \n",
              "L 2700 1978 \n",
              "Q 2663 2397 2488 2606 \n",
              "Q 2219 2931 1791 2931 \n",
              "Q 1403 2931 1139 2672 \n",
              "Q 875 2413 847 1978 \n",
              "z\n",
              "\" transform=\"scale(0.015625)\"/>\n",
              "       <path id=\"ArialMT-20\" transform=\"scale(0.015625)\"/>\n",
              "       <path id=\"ArialMT-28\" d=\"M 1497 -1347 \n",
              "Q 1031 -759 709 28 \n",
              "Q 388 816 388 1659 \n",
              "Q 388 2403 628 3084 \n",
              "Q 909 3875 1497 4659 \n",
              "L 1900 4659 \n",
              "Q 1522 4009 1400 3731 \n",
              "Q 1209 3300 1100 2831 \n",
              "Q 966 2247 966 1656 \n",
              "Q 966 153 1900 -1347 \n",
              "L 1497 -1347 \n",
              "z\n",
              "\" transform=\"scale(0.015625)\"/>\n",
              "       <path id=\"ArialMT-6d\" d=\"M 422 0 \n",
              "L 422 3319 \n",
              "L 925 3319 \n",
              "L 925 2853 \n",
              "Q 1081 3097 1340 3245 \n",
              "Q 1600 3394 1931 3394 \n",
              "Q 2300 3394 2536 3241 \n",
              "Q 2772 3088 2869 2813 \n",
              "Q 3263 3394 3894 3394 \n",
              "Q 4388 3394 4653 3120 \n",
              "Q 4919 2847 4919 2278 \n",
              "L 4919 0 \n",
              "L 4359 0 \n",
              "L 4359 2091 \n",
              "Q 4359 2428 4304 2576 \n",
              "Q 4250 2725 4106 2815 \n",
              "Q 3963 2906 3769 2906 \n",
              "Q 3419 2906 3187 2673 \n",
              "Q 2956 2441 2956 1928 \n",
              "L 2956 0 \n",
              "L 2394 0 \n",
              "L 2394 2156 \n",
              "Q 2394 2531 2256 2718 \n",
              "Q 2119 2906 1806 2906 \n",
              "Q 1569 2906 1367 2781 \n",
              "Q 1166 2656 1075 2415 \n",
              "Q 984 2175 984 1722 \n",
              "L 984 0 \n",
              "L 422 0 \n",
              "z\n",
              "\" transform=\"scale(0.015625)\"/>\n",
              "       <path id=\"ArialMT-29\" d=\"M 791 -1347 \n",
              "L 388 -1347 \n",
              "Q 1322 153 1322 1656 \n",
              "Q 1322 2244 1188 2822 \n",
              "Q 1081 3291 891 3722 \n",
              "Q 769 4003 388 4659 \n",
              "L 791 4659 \n",
              "Q 1378 3875 1659 3084 \n",
              "Q 1900 2403 1900 1659 \n",
              "Q 1900 816 1576 28 \n",
              "Q 1253 -759 791 -1347 \n",
              "z\n",
              "\" transform=\"scale(0.015625)\"/>\n",
              "      </defs>\n",
              "      <use xlink:href=\"#ArialMT-44\"/>\n",
              "      <use xlink:href=\"#ArialMT-69\" x=\"72.216797\"/>\n",
              "      <use xlink:href=\"#ArialMT-73\" x=\"94.433594\"/>\n",
              "      <use xlink:href=\"#ArialMT-74\" x=\"144.433594\"/>\n",
              "      <use xlink:href=\"#ArialMT-61\" x=\"172.216797\"/>\n",
              "      <use xlink:href=\"#ArialMT-6e\" x=\"227.832031\"/>\n",
              "      <use xlink:href=\"#ArialMT-63\" x=\"283.447266\"/>\n",
              "      <use xlink:href=\"#ArialMT-65\" x=\"333.447266\"/>\n",
              "      <use xlink:href=\"#ArialMT-20\" x=\"389.0625\"/>\n",
              "      <use xlink:href=\"#ArialMT-28\" x=\"416.845703\"/>\n",
              "      <use xlink:href=\"#ArialMT-6d\" x=\"450.146484\"/>\n",
              "      <use xlink:href=\"#ArialMT-29\" x=\"533.447266\"/>\n",
              "     </g>\n",
              "    </g>\n",
              "   </g>\n",
              "   <g id=\"matplotlib.axis_2\">\n",
              "    <g id=\"ytick_1\">\n",
              "     <g id=\"line2d_17\">\n",
              "      <path d=\"M 38.542375 274.2045 \n",
              "L 395.662375 274.2045 \n",
              "\" clip-path=\"url(#p547fe2f367)\" style=\"fill: none; stroke: #cccccc; stroke-width: 0.8; stroke-linecap: round\"/>\n",
              "     </g>\n",
              "     <g id=\"line2d_18\">\n",
              "      <defs>\n",
              "       <path id=\"mea4cb69864\" d=\"M 0 0 \n",
              "L -4.8 0 \n",
              "\" style=\"stroke: #262626\"/>\n",
              "      </defs>\n",
              "      <g>\n",
              "       <use xlink:href=\"#mea4cb69864\" x=\"38.542375\" y=\"274.2045\" style=\"fill: #262626; stroke: #262626\"/>\n",
              "      </g>\n",
              "     </g>\n",
              "     <g id=\"text_10\">\n",
              "      <!-- −2 -->\n",
              "      <g style=\"fill: #262626\" transform=\"translate(20.209 277.353937) scale(0.088 -0.088)\">\n",
              "       <defs>\n",
              "        <path id=\"ArialMT-2212\" d=\"M 3381 1997 \n",
              "L 356 1997 \n",
              "L 356 2522 \n",
              "L 3381 2522 \n",
              "L 3381 1997 \n",
              "z\n",
              "\" transform=\"scale(0.015625)\"/>\n",
              "       </defs>\n",
              "       <use xlink:href=\"#ArialMT-2212\"/>\n",
              "       <use xlink:href=\"#ArialMT-32\" x=\"58.398438\"/>\n",
              "      </g>\n",
              "     </g>\n",
              "    </g>\n",
              "    <g id=\"ytick_2\">\n",
              "     <g id=\"line2d_19\">\n",
              "      <path d=\"M 38.542375 225.8205 \n",
              "L 395.662375 225.8205 \n",
              "\" clip-path=\"url(#p547fe2f367)\" style=\"fill: none; stroke: #cccccc; stroke-width: 0.8; stroke-linecap: round\"/>\n",
              "     </g>\n",
              "     <g id=\"line2d_20\">\n",
              "      <g>\n",
              "       <use xlink:href=\"#mea4cb69864\" x=\"38.542375\" y=\"225.8205\" style=\"fill: #262626; stroke: #262626\"/>\n",
              "      </g>\n",
              "     </g>\n",
              "     <g id=\"text_11\">\n",
              "      <!-- 0 -->\n",
              "      <g style=\"fill: #262626\" transform=\"translate(25.34875 228.969937) scale(0.088 -0.088)\">\n",
              "       <use xlink:href=\"#ArialMT-30\"/>\n",
              "      </g>\n",
              "     </g>\n",
              "    </g>\n",
              "    <g id=\"ytick_3\">\n",
              "     <g id=\"line2d_21\">\n",
              "      <path d=\"M 38.542375 177.4365 \n",
              "L 395.662375 177.4365 \n",
              "\" clip-path=\"url(#p547fe2f367)\" style=\"fill: none; stroke: #cccccc; stroke-width: 0.8; stroke-linecap: round\"/>\n",
              "     </g>\n",
              "     <g id=\"line2d_22\">\n",
              "      <g>\n",
              "       <use xlink:href=\"#mea4cb69864\" x=\"38.542375\" y=\"177.4365\" style=\"fill: #262626; stroke: #262626\"/>\n",
              "      </g>\n",
              "     </g>\n",
              "     <g id=\"text_12\">\n",
              "      <!-- 2 -->\n",
              "      <g style=\"fill: #262626\" transform=\"translate(25.34875 180.585937) scale(0.088 -0.088)\">\n",
              "       <use xlink:href=\"#ArialMT-32\"/>\n",
              "      </g>\n",
              "     </g>\n",
              "    </g>\n",
              "    <g id=\"ytick_4\">\n",
              "     <g id=\"line2d_23\">\n",
              "      <path d=\"M 38.542375 129.0525 \n",
              "L 395.662375 129.0525 \n",
              "\" clip-path=\"url(#p547fe2f367)\" style=\"fill: none; stroke: #cccccc; stroke-width: 0.8; stroke-linecap: round\"/>\n",
              "     </g>\n",
              "     <g id=\"line2d_24\">\n",
              "      <g>\n",
              "       <use xlink:href=\"#mea4cb69864\" x=\"38.542375\" y=\"129.0525\" style=\"fill: #262626; stroke: #262626\"/>\n",
              "      </g>\n",
              "     </g>\n",
              "     <g id=\"text_13\">\n",
              "      <!-- 4 -->\n",
              "      <g style=\"fill: #262626\" transform=\"translate(25.34875 132.201937) scale(0.088 -0.088)\">\n",
              "       <use xlink:href=\"#ArialMT-34\"/>\n",
              "      </g>\n",
              "     </g>\n",
              "    </g>\n",
              "    <g id=\"ytick_5\">\n",
              "     <g id=\"line2d_25\">\n",
              "      <path d=\"M 38.542375 80.6685 \n",
              "L 395.662375 80.6685 \n",
              "\" clip-path=\"url(#p547fe2f367)\" style=\"fill: none; stroke: #cccccc; stroke-width: 0.8; stroke-linecap: round\"/>\n",
              "     </g>\n",
              "     <g id=\"line2d_26\">\n",
              "      <g>\n",
              "       <use xlink:href=\"#mea4cb69864\" x=\"38.542375\" y=\"80.6685\" style=\"fill: #262626; stroke: #262626\"/>\n",
              "      </g>\n",
              "     </g>\n",
              "     <g id=\"text_14\">\n",
              "      <!-- 6 -->\n",
              "      <g style=\"fill: #262626\" transform=\"translate(25.34875 83.817937) scale(0.088 -0.088)\">\n",
              "       <use xlink:href=\"#ArialMT-36\"/>\n",
              "      </g>\n",
              "     </g>\n",
              "    </g>\n",
              "    <g id=\"ytick_6\">\n",
              "     <g id=\"line2d_27\">\n",
              "      <path d=\"M 38.542375 32.2845 \n",
              "L 395.662375 32.2845 \n",
              "\" clip-path=\"url(#p547fe2f367)\" style=\"fill: none; stroke: #cccccc; stroke-width: 0.8; stroke-linecap: round\"/>\n",
              "     </g>\n",
              "     <g id=\"line2d_28\">\n",
              "      <g>\n",
              "       <use xlink:href=\"#mea4cb69864\" x=\"38.542375\" y=\"32.2845\" style=\"fill: #262626; stroke: #262626\"/>\n",
              "      </g>\n",
              "     </g>\n",
              "     <g id=\"text_15\">\n",
              "      <!-- 8 -->\n",
              "      <g style=\"fill: #262626\" transform=\"translate(25.34875 35.433937) scale(0.088 -0.088)\">\n",
              "       <use xlink:href=\"#ArialMT-38\"/>\n",
              "      </g>\n",
              "     </g>\n",
              "    </g>\n",
              "    <g id=\"text_16\">\n",
              "     <!-- Shear Force (kN) -->\n",
              "     <g style=\"fill: #262626\" transform=\"translate(14.1885 190.05075) rotate(-90) scale(0.096 -0.096)\">\n",
              "      <defs>\n",
              "       <path id=\"ArialMT-53\" d=\"M 288 1472 \n",
              "L 859 1522 \n",
              "Q 900 1178 1048 958 \n",
              "Q 1197 738 1509 602 \n",
              "Q 1822 466 2213 466 \n",
              "Q 2559 466 2825 569 \n",
              "Q 3091 672 3220 851 \n",
              "Q 3350 1031 3350 1244 \n",
              "Q 3350 1459 3225 1620 \n",
              "Q 3100 1781 2813 1891 \n",
              "Q 2628 1963 1997 2114 \n",
              "Q 1366 2266 1113 2400 \n",
              "Q 784 2572 623 2826 \n",
              "Q 463 3081 463 3397 \n",
              "Q 463 3744 659 4045 \n",
              "Q 856 4347 1234 4503 \n",
              "Q 1613 4659 2075 4659 \n",
              "Q 2584 4659 2973 4495 \n",
              "Q 3363 4331 3572 4012 \n",
              "Q 3781 3694 3797 3291 \n",
              "L 3216 3247 \n",
              "Q 3169 3681 2898 3903 \n",
              "Q 2628 4125 2100 4125 \n",
              "Q 1550 4125 1298 3923 \n",
              "Q 1047 3722 1047 3438 \n",
              "Q 1047 3191 1225 3031 \n",
              "Q 1400 2872 2139 2705 \n",
              "Q 2878 2538 3153 2413 \n",
              "Q 3553 2228 3743 1945 \n",
              "Q 3934 1663 3934 1294 \n",
              "Q 3934 928 3725 604 \n",
              "Q 3516 281 3123 101 \n",
              "Q 2731 -78 2241 -78 \n",
              "Q 1619 -78 1198 103 \n",
              "Q 778 284 539 648 \n",
              "Q 300 1013 288 1472 \n",
              "z\n",
              "\" transform=\"scale(0.015625)\"/>\n",
              "       <path id=\"ArialMT-68\" d=\"M 422 0 \n",
              "L 422 4581 \n",
              "L 984 4581 \n",
              "L 984 2938 \n",
              "Q 1378 3394 1978 3394 \n",
              "Q 2347 3394 2619 3248 \n",
              "Q 2891 3103 3008 2847 \n",
              "Q 3125 2591 3125 2103 \n",
              "L 3125 0 \n",
              "L 2563 0 \n",
              "L 2563 2103 \n",
              "Q 2563 2525 2380 2717 \n",
              "Q 2197 2909 1863 2909 \n",
              "Q 1613 2909 1392 2779 \n",
              "Q 1172 2650 1078 2428 \n",
              "Q 984 2206 984 1816 \n",
              "L 984 0 \n",
              "L 422 0 \n",
              "z\n",
              "\" transform=\"scale(0.015625)\"/>\n",
              "       <path id=\"ArialMT-72\" d=\"M 416 0 \n",
              "L 416 3319 \n",
              "L 922 3319 \n",
              "L 922 2816 \n",
              "Q 1116 3169 1280 3281 \n",
              "Q 1444 3394 1641 3394 \n",
              "Q 1925 3394 2219 3213 \n",
              "L 2025 2691 \n",
              "Q 1819 2813 1613 2813 \n",
              "Q 1428 2813 1281 2702 \n",
              "Q 1134 2591 1072 2394 \n",
              "Q 978 2094 978 1738 \n",
              "L 978 0 \n",
              "L 416 0 \n",
              "z\n",
              "\" transform=\"scale(0.015625)\"/>\n",
              "       <path id=\"ArialMT-46\" d=\"M 525 0 \n",
              "L 525 4581 \n",
              "L 3616 4581 \n",
              "L 3616 4041 \n",
              "L 1131 4041 \n",
              "L 1131 2622 \n",
              "L 3281 2622 \n",
              "L 3281 2081 \n",
              "L 1131 2081 \n",
              "L 1131 0 \n",
              "L 525 0 \n",
              "z\n",
              "\" transform=\"scale(0.015625)\"/>\n",
              "       <path id=\"ArialMT-6f\" d=\"M 213 1659 \n",
              "Q 213 2581 725 3025 \n",
              "Q 1153 3394 1769 3394 \n",
              "Q 2453 3394 2887 2945 \n",
              "Q 3322 2497 3322 1706 \n",
              "Q 3322 1066 3130 698 \n",
              "Q 2938 331 2570 128 \n",
              "Q 2203 -75 1769 -75 \n",
              "Q 1072 -75 642 372 \n",
              "Q 213 819 213 1659 \n",
              "z\n",
              "M 791 1659 \n",
              "Q 791 1022 1069 705 \n",
              "Q 1347 388 1769 388 \n",
              "Q 2188 388 2466 706 \n",
              "Q 2744 1025 2744 1678 \n",
              "Q 2744 2294 2464 2611 \n",
              "Q 2184 2928 1769 2928 \n",
              "Q 1347 2928 1069 2612 \n",
              "Q 791 2297 791 1659 \n",
              "z\n",
              "\" transform=\"scale(0.015625)\"/>\n",
              "       <path id=\"ArialMT-6b\" d=\"M 425 0 \n",
              "L 425 4581 \n",
              "L 988 4581 \n",
              "L 988 1969 \n",
              "L 2319 3319 \n",
              "L 3047 3319 \n",
              "L 1778 2088 \n",
              "L 3175 0 \n",
              "L 2481 0 \n",
              "L 1384 1697 \n",
              "L 988 1316 \n",
              "L 988 0 \n",
              "L 425 0 \n",
              "z\n",
              "\" transform=\"scale(0.015625)\"/>\n",
              "       <path id=\"ArialMT-4e\" d=\"M 488 0 \n",
              "L 488 4581 \n",
              "L 1109 4581 \n",
              "L 3516 984 \n",
              "L 3516 4581 \n",
              "L 4097 4581 \n",
              "L 4097 0 \n",
              "L 3475 0 \n",
              "L 1069 3600 \n",
              "L 1069 0 \n",
              "L 488 0 \n",
              "z\n",
              "\" transform=\"scale(0.015625)\"/>\n",
              "      </defs>\n",
              "      <use xlink:href=\"#ArialMT-53\"/>\n",
              "      <use xlink:href=\"#ArialMT-68\" x=\"66.699219\"/>\n",
              "      <use xlink:href=\"#ArialMT-65\" x=\"122.314453\"/>\n",
              "      <use xlink:href=\"#ArialMT-61\" x=\"177.929688\"/>\n",
              "      <use xlink:href=\"#ArialMT-72\" x=\"233.544922\"/>\n",
              "      <use xlink:href=\"#ArialMT-20\" x=\"266.845703\"/>\n",
              "      <use xlink:href=\"#ArialMT-46\" x=\"294.628906\"/>\n",
              "      <use xlink:href=\"#ArialMT-6f\" x=\"355.712891\"/>\n",
              "      <use xlink:href=\"#ArialMT-72\" x=\"411.328125\"/>\n",
              "      <use xlink:href=\"#ArialMT-63\" x=\"444.628906\"/>\n",
              "      <use xlink:href=\"#ArialMT-65\" x=\"494.628906\"/>\n",
              "      <use xlink:href=\"#ArialMT-20\" x=\"550.244141\"/>\n",
              "      <use xlink:href=\"#ArialMT-28\" x=\"578.027344\"/>\n",
              "      <use xlink:href=\"#ArialMT-6b\" x=\"611.328125\"/>\n",
              "      <use xlink:href=\"#ArialMT-4e\" x=\"661.328125\"/>\n",
              "      <use xlink:href=\"#ArialMT-29\" x=\"733.544922\"/>\n",
              "     </g>\n",
              "    </g>\n",
              "   </g>\n",
              "   <g id=\"PolyCollection_1\">\n",
              "    <defs>\n",
              "     <path id=\"mf63be8ede6\" d=\"M 54.775102 -97.036875 \n",
              "L 54.775102 -290.572875 \n",
              "L 58.054441 -290.572875 \n",
              "L 61.33378 -290.572875 \n",
              "L 64.613119 -290.572875 \n",
              "L 67.892458 -290.572875 \n",
              "L 71.171796 -290.572875 \n",
              "L 74.451135 -290.572875 \n",
              "L 77.730474 -290.572875 \n",
              "L 81.009813 -290.572875 \n",
              "L 84.289152 -290.572875 \n",
              "L 87.568491 -290.572875 \n",
              "L 90.84783 -290.572875 \n",
              "L 94.127168 -290.572875 \n",
              "L 97.406507 -290.572875 \n",
              "L 100.685846 -290.572875 \n",
              "L 103.965185 -290.572875 \n",
              "L 107.244524 -290.572875 \n",
              "L 110.523863 -290.572875 \n",
              "L 113.803201 -290.572875 \n",
              "L 117.08254 -290.572875 \n",
              "L 120.361879 -290.572875 \n",
              "L 123.641218 -290.572875 \n",
              "L 126.920557 -290.572875 \n",
              "L 130.199896 -290.572875 \n",
              "L 133.479235 -290.572875 \n",
              "L 136.758573 -290.572875 \n",
              "L 140.037912 -290.572875 \n",
              "L 143.317251 -290.572875 \n",
              "L 146.59659 -290.572875 \n",
              "L 149.875929 -290.572875 \n",
              "L 153.155268 -290.572875 \n",
              "L 156.434606 -290.572875 \n",
              "L 159.713945 -290.572875 \n",
              "L 162.993284 -290.572875 \n",
              "L 166.272623 -290.572875 \n",
              "L 169.551962 -290.572875 \n",
              "L 172.831301 -290.572875 \n",
              "L 176.110639 -290.572875 \n",
              "L 179.389978 -290.572875 \n",
              "L 182.669317 -290.572875 \n",
              "L 185.948656 -48.652875 \n",
              "L 189.227995 -48.652875 \n",
              "L 192.507334 -48.652875 \n",
              "L 195.786673 -48.652875 \n",
              "L 199.066011 -48.652875 \n",
              "L 202.34535 -48.652875 \n",
              "L 205.624689 -48.652875 \n",
              "L 208.904028 -48.652875 \n",
              "L 212.183367 -48.652875 \n",
              "L 215.462706 -48.652875 \n",
              "L 218.742044 -48.652875 \n",
              "L 222.021383 -48.652875 \n",
              "L 225.300722 -48.652875 \n",
              "L 228.580061 -48.652875 \n",
              "L 231.8594 -48.652875 \n",
              "L 235.138739 -48.652875 \n",
              "L 238.418077 -48.652875 \n",
              "L 241.697416 -48.652875 \n",
              "L 244.976755 -48.652875 \n",
              "L 248.256094 -48.652875 \n",
              "L 251.535433 -48.652875 \n",
              "L 254.814772 -48.652875 \n",
              "L 258.094111 -48.652875 \n",
              "L 261.373449 -48.652875 \n",
              "L 264.652788 -48.652875 \n",
              "L 267.932127 -48.652875 \n",
              "L 271.211466 -48.652875 \n",
              "L 274.490805 -48.652875 \n",
              "L 277.770144 -48.652875 \n",
              "L 281.049482 -48.652875 \n",
              "L 284.328821 -48.652875 \n",
              "L 287.60816 -48.652875 \n",
              "L 290.887499 -48.652875 \n",
              "L 294.166838 -48.652875 \n",
              "L 297.446177 -48.652875 \n",
              "L 300.725515 -48.652875 \n",
              "L 304.004854 -48.652875 \n",
              "L 307.284193 -48.652875 \n",
              "L 310.563532 -48.652875 \n",
              "L 313.842871 -48.652875 \n",
              "L 317.12221 -48.652875 \n",
              "L 320.401549 -48.652875 \n",
              "L 323.680887 -48.652875 \n",
              "L 326.960226 -48.652875 \n",
              "L 330.239565 -48.652875 \n",
              "L 333.518904 -48.652875 \n",
              "L 336.798243 -48.652875 \n",
              "L 340.077582 -48.652875 \n",
              "L 343.35692 -48.652875 \n",
              "L 346.636259 -48.652875 \n",
              "L 349.915598 -48.652875 \n",
              "L 353.194937 -48.652875 \n",
              "L 356.474276 -48.652875 \n",
              "L 359.753615 -48.652875 \n",
              "L 363.032954 -48.652875 \n",
              "L 366.312292 -48.652875 \n",
              "L 369.591631 -48.652875 \n",
              "L 372.87097 -48.652875 \n",
              "L 376.150309 -48.652875 \n",
              "L 379.429648 -48.652875 \n",
              "L 379.429648 -97.036875 \n",
              "L 379.429648 -97.036875 \n",
              "L 376.150309 -97.036875 \n",
              "L 372.87097 -97.036875 \n",
              "L 369.591631 -97.036875 \n",
              "L 366.312292 -97.036875 \n",
              "L 363.032954 -97.036875 \n",
              "L 359.753615 -97.036875 \n",
              "L 356.474276 -97.036875 \n",
              "L 353.194937 -97.036875 \n",
              "L 349.915598 -97.036875 \n",
              "L 346.636259 -97.036875 \n",
              "L 343.35692 -97.036875 \n",
              "L 340.077582 -97.036875 \n",
              "L 336.798243 -97.036875 \n",
              "L 333.518904 -97.036875 \n",
              "L 330.239565 -97.036875 \n",
              "L 326.960226 -97.036875 \n",
              "L 323.680887 -97.036875 \n",
              "L 320.401549 -97.036875 \n",
              "L 317.12221 -97.036875 \n",
              "L 313.842871 -97.036875 \n",
              "L 310.563532 -97.036875 \n",
              "L 307.284193 -97.036875 \n",
              "L 304.004854 -97.036875 \n",
              "L 300.725515 -97.036875 \n",
              "L 297.446177 -97.036875 \n",
              "L 294.166838 -97.036875 \n",
              "L 290.887499 -97.036875 \n",
              "L 287.60816 -97.036875 \n",
              "L 284.328821 -97.036875 \n",
              "L 281.049482 -97.036875 \n",
              "L 277.770144 -97.036875 \n",
              "L 274.490805 -97.036875 \n",
              "L 271.211466 -97.036875 \n",
              "L 267.932127 -97.036875 \n",
              "L 264.652788 -97.036875 \n",
              "L 261.373449 -97.036875 \n",
              "L 258.094111 -97.036875 \n",
              "L 254.814772 -97.036875 \n",
              "L 251.535433 -97.036875 \n",
              "L 248.256094 -97.036875 \n",
              "L 244.976755 -97.036875 \n",
              "L 241.697416 -97.036875 \n",
              "L 238.418077 -97.036875 \n",
              "L 235.138739 -97.036875 \n",
              "L 231.8594 -97.036875 \n",
              "L 228.580061 -97.036875 \n",
              "L 225.300722 -97.036875 \n",
              "L 222.021383 -97.036875 \n",
              "L 218.742044 -97.036875 \n",
              "L 215.462706 -97.036875 \n",
              "L 212.183367 -97.036875 \n",
              "L 208.904028 -97.036875 \n",
              "L 205.624689 -97.036875 \n",
              "L 202.34535 -97.036875 \n",
              "L 199.066011 -97.036875 \n",
              "L 195.786673 -97.036875 \n",
              "L 192.507334 -97.036875 \n",
              "L 189.227995 -97.036875 \n",
              "L 185.948656 -97.036875 \n",
              "L 182.669317 -97.036875 \n",
              "L 179.389978 -97.036875 \n",
              "L 176.110639 -97.036875 \n",
              "L 172.831301 -97.036875 \n",
              "L 169.551962 -97.036875 \n",
              "L 166.272623 -97.036875 \n",
              "L 162.993284 -97.036875 \n",
              "L 159.713945 -97.036875 \n",
              "L 156.434606 -97.036875 \n",
              "L 153.155268 -97.036875 \n",
              "L 149.875929 -97.036875 \n",
              "L 146.59659 -97.036875 \n",
              "L 143.317251 -97.036875 \n",
              "L 140.037912 -97.036875 \n",
              "L 136.758573 -97.036875 \n",
              "L 133.479235 -97.036875 \n",
              "L 130.199896 -97.036875 \n",
              "L 126.920557 -97.036875 \n",
              "L 123.641218 -97.036875 \n",
              "L 120.361879 -97.036875 \n",
              "L 117.08254 -97.036875 \n",
              "L 113.803201 -97.036875 \n",
              "L 110.523863 -97.036875 \n",
              "L 107.244524 -97.036875 \n",
              "L 103.965185 -97.036875 \n",
              "L 100.685846 -97.036875 \n",
              "L 97.406507 -97.036875 \n",
              "L 94.127168 -97.036875 \n",
              "L 90.84783 -97.036875 \n",
              "L 87.568491 -97.036875 \n",
              "L 84.289152 -97.036875 \n",
              "L 81.009813 -97.036875 \n",
              "L 77.730474 -97.036875 \n",
              "L 74.451135 -97.036875 \n",
              "L 71.171796 -97.036875 \n",
              "L 67.892458 -97.036875 \n",
              "L 64.613119 -97.036875 \n",
              "L 61.33378 -97.036875 \n",
              "L 58.054441 -97.036875 \n",
              "L 54.775102 -97.036875 \n",
              "z\n",
              "\" style=\"stroke: #ffffff; stroke-opacity: 0.3; stroke-width: 0.8\"/>\n",
              "    </defs>\n",
              "    <g clip-path=\"url(#p547fe2f367)\">\n",
              "     <use xlink:href=\"#mf63be8ede6\" x=\"0\" y=\"322.857375\" style=\"fill: #1f77b4; fill-opacity: 0.3; stroke: #ffffff; stroke-opacity: 0.3; stroke-width: 0.8\"/>\n",
              "    </g>\n",
              "   </g>\n",
              "   <g id=\"line2d_29\">\n",
              "    <path d=\"M 54.775102 32.2845 \n",
              "L 58.054441 32.2845 \n",
              "L 61.33378 32.2845 \n",
              "L 64.613119 32.2845 \n",
              "L 67.892458 32.2845 \n",
              "L 71.171796 32.2845 \n",
              "L 74.451135 32.2845 \n",
              "L 77.730474 32.2845 \n",
              "L 81.009813 32.2845 \n",
              "L 84.289152 32.2845 \n",
              "L 87.568491 32.2845 \n",
              "L 90.84783 32.2845 \n",
              "L 94.127168 32.2845 \n",
              "L 97.406507 32.2845 \n",
              "L 100.685846 32.2845 \n",
              "L 103.965185 32.2845 \n",
              "L 107.244524 32.2845 \n",
              "L 110.523863 32.2845 \n",
              "L 113.803201 32.2845 \n",
              "L 117.08254 32.2845 \n",
              "L 120.361879 32.2845 \n",
              "L 123.641218 32.2845 \n",
              "L 126.920557 32.2845 \n",
              "L 130.199896 32.2845 \n",
              "L 133.479235 32.2845 \n",
              "L 136.758573 32.2845 \n",
              "L 140.037912 32.2845 \n",
              "L 143.317251 32.2845 \n",
              "L 146.59659 32.2845 \n",
              "L 149.875929 32.2845 \n",
              "L 153.155268 32.2845 \n",
              "L 156.434606 32.2845 \n",
              "L 159.713945 32.2845 \n",
              "L 162.993284 32.2845 \n",
              "L 166.272623 32.2845 \n",
              "L 169.551962 32.2845 \n",
              "L 172.831301 32.2845 \n",
              "L 176.110639 32.2845 \n",
              "L 179.389978 32.2845 \n",
              "L 182.669317 32.2845 \n",
              "L 185.948656 274.2045 \n",
              "L 189.227995 274.2045 \n",
              "L 192.507334 274.2045 \n",
              "L 195.786673 274.2045 \n",
              "L 199.066011 274.2045 \n",
              "L 202.34535 274.2045 \n",
              "L 205.624689 274.2045 \n",
              "L 208.904028 274.2045 \n",
              "L 212.183367 274.2045 \n",
              "L 215.462706 274.2045 \n",
              "L 218.742044 274.2045 \n",
              "L 222.021383 274.2045 \n",
              "L 225.300722 274.2045 \n",
              "L 228.580061 274.2045 \n",
              "L 231.8594 274.2045 \n",
              "L 235.138739 274.2045 \n",
              "L 238.418077 274.2045 \n",
              "L 241.697416 274.2045 \n",
              "L 244.976755 274.2045 \n",
              "L 248.256094 274.2045 \n",
              "L 251.535433 274.2045 \n",
              "L 254.814772 274.2045 \n",
              "L 258.094111 274.2045 \n",
              "L 261.373449 274.2045 \n",
              "L 264.652788 274.2045 \n",
              "L 267.932127 274.2045 \n",
              "L 271.211466 274.2045 \n",
              "L 274.490805 274.2045 \n",
              "L 277.770144 274.2045 \n",
              "L 281.049482 274.2045 \n",
              "L 284.328821 274.2045 \n",
              "L 287.60816 274.2045 \n",
              "L 290.887499 274.2045 \n",
              "L 294.166838 274.2045 \n",
              "L 297.446177 274.2045 \n",
              "L 300.725515 274.2045 \n",
              "L 304.004854 274.2045 \n",
              "L 307.284193 274.2045 \n",
              "L 310.563532 274.2045 \n",
              "L 313.842871 274.2045 \n",
              "L 317.12221 274.2045 \n",
              "L 320.401549 274.2045 \n",
              "L 323.680887 274.2045 \n",
              "L 326.960226 274.2045 \n",
              "L 330.239565 274.2045 \n",
              "L 333.518904 274.2045 \n",
              "L 336.798243 274.2045 \n",
              "L 340.077582 274.2045 \n",
              "L 343.35692 274.2045 \n",
              "L 346.636259 274.2045 \n",
              "L 349.915598 274.2045 \n",
              "L 353.194937 274.2045 \n",
              "L 356.474276 274.2045 \n",
              "L 359.753615 274.2045 \n",
              "L 363.032954 274.2045 \n",
              "L 366.312292 274.2045 \n",
              "L 369.591631 274.2045 \n",
              "L 372.87097 274.2045 \n",
              "L 376.150309 274.2045 \n",
              "L 379.429648 274.2045 \n",
              "\" clip-path=\"url(#p547fe2f367)\" style=\"fill: none; stroke: #1f77b4; stroke-width: 1.2; stroke-linecap: round\"/>\n",
              "   </g>\n",
              "   <g id=\"patch_3\">\n",
              "    <path d=\"M 38.542375 274.2045 \n",
              "L 38.542375 32.2845 \n",
              "\" style=\"fill: none; stroke: #262626; stroke-linejoin: miter; stroke-linecap: square\"/>\n",
              "   </g>\n",
              "   <g id=\"patch_4\">\n",
              "    <path d=\"M 54.775102 286.3005 \n",
              "L 357.786011 286.3005 \n",
              "\" style=\"fill: none; stroke: #262626; stroke-linejoin: miter; stroke-linecap: square\"/>\n",
              "   </g>\n",
              "   <g id=\"text_17\">\n",
              "    <!-- Shear Force Diagram -->\n",
              "    <g style=\"fill: #262626\" transform=\"translate(171.221875 14.1885) scale(0.096 -0.096)\">\n",
              "     <defs>\n",
              "      <path id=\"ArialMT-67\" d=\"M 319 -275 \n",
              "L 866 -356 \n",
              "Q 900 -609 1056 -725 \n",
              "Q 1266 -881 1628 -881 \n",
              "Q 2019 -881 2231 -725 \n",
              "Q 2444 -569 2519 -288 \n",
              "Q 2563 -116 2559 434 \n",
              "Q 2191 0 1641 0 \n",
              "Q 956 0 581 494 \n",
              "Q 206 988 206 1678 \n",
              "Q 206 2153 378 2554 \n",
              "Q 550 2956 876 3175 \n",
              "Q 1203 3394 1644 3394 \n",
              "Q 2231 3394 2613 2919 \n",
              "L 2613 3319 \n",
              "L 3131 3319 \n",
              "L 3131 450 \n",
              "Q 3131 -325 2973 -648 \n",
              "Q 2816 -972 2473 -1159 \n",
              "Q 2131 -1347 1631 -1347 \n",
              "Q 1038 -1347 672 -1080 \n",
              "Q 306 -813 319 -275 \n",
              "z\n",
              "M 784 1719 \n",
              "Q 784 1066 1043 766 \n",
              "Q 1303 466 1694 466 \n",
              "Q 2081 466 2343 764 \n",
              "Q 2606 1063 2606 1700 \n",
              "Q 2606 2309 2336 2618 \n",
              "Q 2066 2928 1684 2928 \n",
              "Q 1309 2928 1046 2623 \n",
              "Q 784 2319 784 1719 \n",
              "z\n",
              "\" transform=\"scale(0.015625)\"/>\n",
              "     </defs>\n",
              "     <use xlink:href=\"#ArialMT-53\"/>\n",
              "     <use xlink:href=\"#ArialMT-68\" x=\"66.699219\"/>\n",
              "     <use xlink:href=\"#ArialMT-65\" x=\"122.314453\"/>\n",
              "     <use xlink:href=\"#ArialMT-61\" x=\"177.929688\"/>\n",
              "     <use xlink:href=\"#ArialMT-72\" x=\"233.544922\"/>\n",
              "     <use xlink:href=\"#ArialMT-20\" x=\"266.845703\"/>\n",
              "     <use xlink:href=\"#ArialMT-46\" x=\"294.628906\"/>\n",
              "     <use xlink:href=\"#ArialMT-6f\" x=\"355.712891\"/>\n",
              "     <use xlink:href=\"#ArialMT-72\" x=\"411.328125\"/>\n",
              "     <use xlink:href=\"#ArialMT-63\" x=\"444.628906\"/>\n",
              "     <use xlink:href=\"#ArialMT-65\" x=\"494.628906\"/>\n",
              "     <use xlink:href=\"#ArialMT-20\" x=\"550.244141\"/>\n",
              "     <use xlink:href=\"#ArialMT-44\" x=\"578.027344\"/>\n",
              "     <use xlink:href=\"#ArialMT-69\" x=\"650.244141\"/>\n",
              "     <use xlink:href=\"#ArialMT-61\" x=\"672.460938\"/>\n",
              "     <use xlink:href=\"#ArialMT-67\" x=\"728.076172\"/>\n",
              "     <use xlink:href=\"#ArialMT-72\" x=\"783.691406\"/>\n",
              "     <use xlink:href=\"#ArialMT-61\" x=\"816.992188\"/>\n",
              "     <use xlink:href=\"#ArialMT-6d\" x=\"872.607422\"/>\n",
              "    </g>\n",
              "   </g>\n",
              "  </g>\n",
              " </g>\n",
              " <defs>\n",
              "  <clipPath id=\"p547fe2f367\">\n",
              "   <rect x=\"38.542375\" y=\"20.1885\" width=\"357.12\" height=\"266.112\"/>\n",
              "  </clipPath>\n",
              " </defs>\n",
              "</svg>\n"
            ],
            "text/plain": [
              "<Figure size 640x480 with 1 Axes>"
            ]
          },
          "metadata": {},
          "output_type": "display_data"
        }
      ],
      "source": [
        "# Create a figure and axis\n",
        "fig, ax = plt.subplots()\n",
        "# Plot the shear force diagram\n",
        "ax.plot(x, shear)\n",
        "# Shades between the x-axis and our shear force curve\n",
        "ax.fill_between(x, shear, 0, alpha=0.3)\n",
        "ax.set_xlabel('Distance (m)')\n",
        "ax.set_ylabel('Shear Force (kN)')\n",
        "ax.set_title('Shear Force Diagram')\n",
        "ax.grid(True)\n",
        "sns.despine(trim=True)\n",
        "plt.show()"
      ]
    },
    {
      "cell_type": "markdown",
      "metadata": {
        "id": "HhlodzOWJ5eS"
      },
      "source": [
        "I want you to make the plot for the bending moment diagram. Be careful with the applied moment at point C."
      ]
    },
    {
      "cell_type": "code",
      "execution_count": 43,
      "metadata": {
        "id": "pFacQ640J5eT",
        "outputId": "90666b08-5865-42a1-b36f-cfca2f94babc",
        "colab": {
          "base_uri": "https://localhost:8080/",
          "height": 453
        }
      },
      "outputs": [
        {
          "output_type": "display_data",
          "data": {
            "text/plain": [
              "<Figure size 640x480 with 1 Axes>"
            ],
            "image/svg+xml": "<?xml version=\"1.0\" encoding=\"utf-8\" standalone=\"no\"?>\n<!DOCTYPE svg PUBLIC \"-//W3C//DTD SVG 1.1//EN\"\n  \"http://www.w3.org/Graphics/SVG/1.1/DTD/svg11.dtd\">\n<svg xmlns:xlink=\"http://www.w3.org/1999/xlink\" width=\"404.309pt\" height=\"323.91425pt\" viewBox=\"0 0 404.309 323.91425\" xmlns=\"http://www.w3.org/2000/svg\" version=\"1.1\">\n <metadata>\n  <rdf:RDF xmlns:dc=\"http://purl.org/dc/elements/1.1/\" xmlns:cc=\"http://creativecommons.org/ns#\" xmlns:rdf=\"http://www.w3.org/1999/02/22-rdf-syntax-ns#\">\n   <cc:Work>\n    <dc:type rdf:resource=\"http://purl.org/dc/dcmitype/StillImage\"/>\n    <dc:date>2025-04-26T03:52:23.230517</dc:date>\n    <dc:format>image/svg+xml</dc:format>\n    <dc:creator>\n     <cc:Agent>\n      <dc:title>Matplotlib v3.10.0, https://matplotlib.org/</dc:title>\n     </cc:Agent>\n    </dc:creator>\n   </cc:Work>\n  </rdf:RDF>\n </metadata>\n <defs>\n  <style type=\"text/css\">*{stroke-linejoin: round; stroke-linecap: butt}</style>\n </defs>\n <g id=\"figure_1\">\n  <g id=\"patch_1\">\n   <path d=\"M 0 323.91425 \nL 404.309 323.91425 \nL 404.309 0 \nL 0 0 \nz\n\" style=\"fill: #ffffff\"/>\n  </g>\n  <g id=\"axes_1\">\n   <g id=\"patch_2\">\n    <path d=\"M 39.989 286.6065 \nL 397.109 286.6065 \nL 397.109 20.4945 \nL 39.989 20.4945 \nz\n\" style=\"fill: #ffffff\"/>\n   </g>\n   <g id=\"matplotlib.axis_1\">\n    <g id=\"xtick_1\">\n     <g id=\"line2d_1\">\n      <path d=\"M 56.221727 286.6065 \nL 56.221727 20.4945 \n\" clip-path=\"url(#p93ac04f348)\" style=\"fill: none; stroke: #cccccc; stroke-width: 0.8; stroke-linecap: round\"/>\n     </g>\n     <g id=\"line2d_2\">\n      <defs>\n       <path id=\"m1045162e70\" d=\"M 0 0 \nL 0 4.8 \n\" style=\"stroke: #262626\"/>\n      </defs>\n      <g>\n       <use xlink:href=\"#m1045162e70\" x=\"56.221727\" y=\"286.6065\" style=\"fill: #262626; stroke: #262626\"/>\n      </g>\n     </g>\n     <g id=\"text_1\">\n      <!-- 0 -->\n      <g style=\"fill: #262626\" transform=\"translate(53.422227 301.593125) scale(0.088 -0.088)\">\n       <defs>\n        <path id=\"DejaVuSans-30\" d=\"M 2034 4250 \nQ 1547 4250 1301 3770 \nQ 1056 3291 1056 2328 \nQ 1056 1369 1301 889 \nQ 1547 409 2034 409 \nQ 2525 409 2770 889 \nQ 3016 1369 3016 2328 \nQ 3016 3291 2770 3770 \nQ 2525 4250 2034 4250 \nz\nM 2034 4750 \nQ 2819 4750 3233 4129 \nQ 3647 3509 3647 2328 \nQ 3647 1150 3233 529 \nQ 2819 -91 2034 -91 \nQ 1250 -91 836 529 \nQ 422 1150 422 2328 \nQ 422 3509 836 4129 \nQ 1250 4750 2034 4750 \nz\n\" transform=\"scale(0.015625)\"/>\n       </defs>\n       <use xlink:href=\"#DejaVuSans-30\"/>\n      </g>\n     </g>\n    </g>\n    <g id=\"xtick_2\">\n     <g id=\"line2d_3\">\n      <path d=\"M 110.330818 286.6065 \nL 110.330818 20.4945 \n\" clip-path=\"url(#p93ac04f348)\" style=\"fill: none; stroke: #cccccc; stroke-width: 0.8; stroke-linecap: round\"/>\n     </g>\n     <g id=\"line2d_4\">\n      <g>\n       <use xlink:href=\"#m1045162e70\" x=\"110.330818\" y=\"286.6065\" style=\"fill: #262626; stroke: #262626\"/>\n      </g>\n     </g>\n     <g id=\"text_2\">\n      <!-- 1 -->\n      <g style=\"fill: #262626\" transform=\"translate(107.531318 301.593125) scale(0.088 -0.088)\">\n       <defs>\n        <path id=\"DejaVuSans-31\" d=\"M 794 531 \nL 1825 531 \nL 1825 4091 \nL 703 3866 \nL 703 4441 \nL 1819 4666 \nL 2450 4666 \nL 2450 531 \nL 3481 531 \nL 3481 0 \nL 794 0 \nL 794 531 \nz\n\" transform=\"scale(0.015625)\"/>\n       </defs>\n       <use xlink:href=\"#DejaVuSans-31\"/>\n      </g>\n     </g>\n    </g>\n    <g id=\"xtick_3\">\n     <g id=\"line2d_5\">\n      <path d=\"M 164.439909 286.6065 \nL 164.439909 20.4945 \n\" clip-path=\"url(#p93ac04f348)\" style=\"fill: none; stroke: #cccccc; stroke-width: 0.8; stroke-linecap: round\"/>\n     </g>\n     <g id=\"line2d_6\">\n      <g>\n       <use xlink:href=\"#m1045162e70\" x=\"164.439909\" y=\"286.6065\" style=\"fill: #262626; stroke: #262626\"/>\n      </g>\n     </g>\n     <g id=\"text_3\">\n      <!-- 2 -->\n      <g style=\"fill: #262626\" transform=\"translate(161.640409 301.593125) scale(0.088 -0.088)\">\n       <defs>\n        <path id=\"DejaVuSans-32\" d=\"M 1228 531 \nL 3431 531 \nL 3431 0 \nL 469 0 \nL 469 531 \nQ 828 903 1448 1529 \nQ 2069 2156 2228 2338 \nQ 2531 2678 2651 2914 \nQ 2772 3150 2772 3378 \nQ 2772 3750 2511 3984 \nQ 2250 4219 1831 4219 \nQ 1534 4219 1204 4116 \nQ 875 4013 500 3803 \nL 500 4441 \nQ 881 4594 1212 4672 \nQ 1544 4750 1819 4750 \nQ 2544 4750 2975 4387 \nQ 3406 4025 3406 3419 \nQ 3406 3131 3298 2873 \nQ 3191 2616 2906 2266 \nQ 2828 2175 2409 1742 \nQ 1991 1309 1228 531 \nz\n\" transform=\"scale(0.015625)\"/>\n       </defs>\n       <use xlink:href=\"#DejaVuSans-32\"/>\n      </g>\n     </g>\n    </g>\n    <g id=\"xtick_4\">\n     <g id=\"line2d_7\">\n      <path d=\"M 218.549 286.6065 \nL 218.549 20.4945 \n\" clip-path=\"url(#p93ac04f348)\" style=\"fill: none; stroke: #cccccc; stroke-width: 0.8; stroke-linecap: round\"/>\n     </g>\n     <g id=\"line2d_8\">\n      <g>\n       <use xlink:href=\"#m1045162e70\" x=\"218.549\" y=\"286.6065\" style=\"fill: #262626; stroke: #262626\"/>\n      </g>\n     </g>\n     <g id=\"text_4\">\n      <!-- 3 -->\n      <g style=\"fill: #262626\" transform=\"translate(215.7495 301.593125) scale(0.088 -0.088)\">\n       <defs>\n        <path id=\"DejaVuSans-33\" d=\"M 2597 2516 \nQ 3050 2419 3304 2112 \nQ 3559 1806 3559 1356 \nQ 3559 666 3084 287 \nQ 2609 -91 1734 -91 \nQ 1441 -91 1130 -33 \nQ 819 25 488 141 \nL 488 750 \nQ 750 597 1062 519 \nQ 1375 441 1716 441 \nQ 2309 441 2620 675 \nQ 2931 909 2931 1356 \nQ 2931 1769 2642 2001 \nQ 2353 2234 1838 2234 \nL 1294 2234 \nL 1294 2753 \nL 1863 2753 \nQ 2328 2753 2575 2939 \nQ 2822 3125 2822 3475 \nQ 2822 3834 2567 4026 \nQ 2313 4219 1838 4219 \nQ 1578 4219 1281 4162 \nQ 984 4106 628 3988 \nL 628 4550 \nQ 988 4650 1302 4700 \nQ 1616 4750 1894 4750 \nQ 2613 4750 3031 4423 \nQ 3450 4097 3450 3541 \nQ 3450 3153 3228 2886 \nQ 3006 2619 2597 2516 \nz\n\" transform=\"scale(0.015625)\"/>\n       </defs>\n       <use xlink:href=\"#DejaVuSans-33\"/>\n      </g>\n     </g>\n    </g>\n    <g id=\"xtick_5\">\n     <g id=\"line2d_9\">\n      <path d=\"M 272.658091 286.6065 \nL 272.658091 20.4945 \n\" clip-path=\"url(#p93ac04f348)\" style=\"fill: none; stroke: #cccccc; stroke-width: 0.8; stroke-linecap: round\"/>\n     </g>\n     <g id=\"line2d_10\">\n      <g>\n       <use xlink:href=\"#m1045162e70\" x=\"272.658091\" y=\"286.6065\" style=\"fill: #262626; stroke: #262626\"/>\n      </g>\n     </g>\n     <g id=\"text_5\">\n      <!-- 4 -->\n      <g style=\"fill: #262626\" transform=\"translate(269.858591 301.593125) scale(0.088 -0.088)\">\n       <defs>\n        <path id=\"DejaVuSans-34\" d=\"M 2419 4116 \nL 825 1625 \nL 2419 1625 \nL 2419 4116 \nz\nM 2253 4666 \nL 3047 4666 \nL 3047 1625 \nL 3713 1625 \nL 3713 1100 \nL 3047 1100 \nL 3047 0 \nL 2419 0 \nL 2419 1100 \nL 313 1100 \nL 313 1709 \nL 2253 4666 \nz\n\" transform=\"scale(0.015625)\"/>\n       </defs>\n       <use xlink:href=\"#DejaVuSans-34\"/>\n      </g>\n     </g>\n    </g>\n    <g id=\"xtick_6\">\n     <g id=\"line2d_11\">\n      <path d=\"M 326.767182 286.6065 \nL 326.767182 20.4945 \n\" clip-path=\"url(#p93ac04f348)\" style=\"fill: none; stroke: #cccccc; stroke-width: 0.8; stroke-linecap: round\"/>\n     </g>\n     <g id=\"line2d_12\">\n      <g>\n       <use xlink:href=\"#m1045162e70\" x=\"326.767182\" y=\"286.6065\" style=\"fill: #262626; stroke: #262626\"/>\n      </g>\n     </g>\n     <g id=\"text_6\">\n      <!-- 5 -->\n      <g style=\"fill: #262626\" transform=\"translate(323.967682 301.593125) scale(0.088 -0.088)\">\n       <defs>\n        <path id=\"DejaVuSans-35\" d=\"M 691 4666 \nL 3169 4666 \nL 3169 4134 \nL 1269 4134 \nL 1269 2991 \nQ 1406 3038 1543 3061 \nQ 1681 3084 1819 3084 \nQ 2600 3084 3056 2656 \nQ 3513 2228 3513 1497 \nQ 3513 744 3044 326 \nQ 2575 -91 1722 -91 \nQ 1428 -91 1123 -41 \nQ 819 9 494 109 \nL 494 744 \nQ 775 591 1075 516 \nQ 1375 441 1709 441 \nQ 2250 441 2565 725 \nQ 2881 1009 2881 1497 \nQ 2881 1984 2565 2268 \nQ 2250 2553 1709 2553 \nQ 1456 2553 1204 2497 \nQ 953 2441 691 2322 \nL 691 4666 \nz\n\" transform=\"scale(0.015625)\"/>\n       </defs>\n       <use xlink:href=\"#DejaVuSans-35\"/>\n      </g>\n     </g>\n    </g>\n    <g id=\"xtick_7\">\n     <g id=\"line2d_13\">\n      <path d=\"M 380.876273 286.6065 \nL 380.876273 20.4945 \n\" clip-path=\"url(#p93ac04f348)\" style=\"fill: none; stroke: #cccccc; stroke-width: 0.8; stroke-linecap: round\"/>\n     </g>\n     <g id=\"line2d_14\">\n      <g>\n       <use xlink:href=\"#m1045162e70\" x=\"380.876273\" y=\"286.6065\" style=\"fill: #262626; stroke: #262626\"/>\n      </g>\n     </g>\n     <g id=\"text_7\">\n      <!-- 6 -->\n      <g style=\"fill: #262626\" transform=\"translate(378.076773 301.593125) scale(0.088 -0.088)\">\n       <defs>\n        <path id=\"DejaVuSans-36\" d=\"M 2113 2584 \nQ 1688 2584 1439 2293 \nQ 1191 2003 1191 1497 \nQ 1191 994 1439 701 \nQ 1688 409 2113 409 \nQ 2538 409 2786 701 \nQ 3034 994 3034 1497 \nQ 3034 2003 2786 2293 \nQ 2538 2584 2113 2584 \nz\nM 3366 4563 \nL 3366 3988 \nQ 3128 4100 2886 4159 \nQ 2644 4219 2406 4219 \nQ 1781 4219 1451 3797 \nQ 1122 3375 1075 2522 \nQ 1259 2794 1537 2939 \nQ 1816 3084 2150 3084 \nQ 2853 3084 3261 2657 \nQ 3669 2231 3669 1497 \nQ 3669 778 3244 343 \nQ 2819 -91 2113 -91 \nQ 1303 -91 875 529 \nQ 447 1150 447 2328 \nQ 447 3434 972 4092 \nQ 1497 4750 2381 4750 \nQ 2619 4750 2861 4703 \nQ 3103 4656 3366 4563 \nz\n\" transform=\"scale(0.015625)\"/>\n       </defs>\n       <use xlink:href=\"#DejaVuSans-36\"/>\n      </g>\n     </g>\n    </g>\n    <g id=\"text_8\">\n     <!-- Distance (m) -->\n     <g style=\"fill: #262626\" transform=\"translate(187.6145 314.71775) scale(0.096 -0.096)\">\n      <defs>\n       <path id=\"DejaVuSans-44\" d=\"M 1259 4147 \nL 1259 519 \nL 2022 519 \nQ 2988 519 3436 956 \nQ 3884 1394 3884 2338 \nQ 3884 3275 3436 3711 \nQ 2988 4147 2022 4147 \nL 1259 4147 \nz\nM 628 4666 \nL 1925 4666 \nQ 3281 4666 3915 4102 \nQ 4550 3538 4550 2338 \nQ 4550 1131 3912 565 \nQ 3275 0 1925 0 \nL 628 0 \nL 628 4666 \nz\n\" transform=\"scale(0.015625)\"/>\n       <path id=\"DejaVuSans-69\" d=\"M 603 3500 \nL 1178 3500 \nL 1178 0 \nL 603 0 \nL 603 3500 \nz\nM 603 4863 \nL 1178 4863 \nL 1178 4134 \nL 603 4134 \nL 603 4863 \nz\n\" transform=\"scale(0.015625)\"/>\n       <path id=\"DejaVuSans-73\" d=\"M 2834 3397 \nL 2834 2853 \nQ 2591 2978 2328 3040 \nQ 2066 3103 1784 3103 \nQ 1356 3103 1142 2972 \nQ 928 2841 928 2578 \nQ 928 2378 1081 2264 \nQ 1234 2150 1697 2047 \nL 1894 2003 \nQ 2506 1872 2764 1633 \nQ 3022 1394 3022 966 \nQ 3022 478 2636 193 \nQ 2250 -91 1575 -91 \nQ 1294 -91 989 -36 \nQ 684 19 347 128 \nL 347 722 \nQ 666 556 975 473 \nQ 1284 391 1588 391 \nQ 1994 391 2212 530 \nQ 2431 669 2431 922 \nQ 2431 1156 2273 1281 \nQ 2116 1406 1581 1522 \nL 1381 1569 \nQ 847 1681 609 1914 \nQ 372 2147 372 2553 \nQ 372 3047 722 3315 \nQ 1072 3584 1716 3584 \nQ 2034 3584 2315 3537 \nQ 2597 3491 2834 3397 \nz\n\" transform=\"scale(0.015625)\"/>\n       <path id=\"DejaVuSans-74\" d=\"M 1172 4494 \nL 1172 3500 \nL 2356 3500 \nL 2356 3053 \nL 1172 3053 \nL 1172 1153 \nQ 1172 725 1289 603 \nQ 1406 481 1766 481 \nL 2356 481 \nL 2356 0 \nL 1766 0 \nQ 1100 0 847 248 \nQ 594 497 594 1153 \nL 594 3053 \nL 172 3053 \nL 172 3500 \nL 594 3500 \nL 594 4494 \nL 1172 4494 \nz\n\" transform=\"scale(0.015625)\"/>\n       <path id=\"DejaVuSans-61\" d=\"M 2194 1759 \nQ 1497 1759 1228 1600 \nQ 959 1441 959 1056 \nQ 959 750 1161 570 \nQ 1363 391 1709 391 \nQ 2188 391 2477 730 \nQ 2766 1069 2766 1631 \nL 2766 1759 \nL 2194 1759 \nz\nM 3341 1997 \nL 3341 0 \nL 2766 0 \nL 2766 531 \nQ 2569 213 2275 61 \nQ 1981 -91 1556 -91 \nQ 1019 -91 701 211 \nQ 384 513 384 1019 \nQ 384 1609 779 1909 \nQ 1175 2209 1959 2209 \nL 2766 2209 \nL 2766 2266 \nQ 2766 2663 2505 2880 \nQ 2244 3097 1772 3097 \nQ 1472 3097 1187 3025 \nQ 903 2953 641 2809 \nL 641 3341 \nQ 956 3463 1253 3523 \nQ 1550 3584 1831 3584 \nQ 2591 3584 2966 3190 \nQ 3341 2797 3341 1997 \nz\n\" transform=\"scale(0.015625)\"/>\n       <path id=\"DejaVuSans-6e\" d=\"M 3513 2113 \nL 3513 0 \nL 2938 0 \nL 2938 2094 \nQ 2938 2591 2744 2837 \nQ 2550 3084 2163 3084 \nQ 1697 3084 1428 2787 \nQ 1159 2491 1159 1978 \nL 1159 0 \nL 581 0 \nL 581 3500 \nL 1159 3500 \nL 1159 2956 \nQ 1366 3272 1645 3428 \nQ 1925 3584 2291 3584 \nQ 2894 3584 3203 3211 \nQ 3513 2838 3513 2113 \nz\n\" transform=\"scale(0.015625)\"/>\n       <path id=\"DejaVuSans-63\" d=\"M 3122 3366 \nL 3122 2828 \nQ 2878 2963 2633 3030 \nQ 2388 3097 2138 3097 \nQ 1578 3097 1268 2742 \nQ 959 2388 959 1747 \nQ 959 1106 1268 751 \nQ 1578 397 2138 397 \nQ 2388 397 2633 464 \nQ 2878 531 3122 666 \nL 3122 134 \nQ 2881 22 2623 -34 \nQ 2366 -91 2075 -91 \nQ 1284 -91 818 406 \nQ 353 903 353 1747 \nQ 353 2603 823 3093 \nQ 1294 3584 2113 3584 \nQ 2378 3584 2631 3529 \nQ 2884 3475 3122 3366 \nz\n\" transform=\"scale(0.015625)\"/>\n       <path id=\"DejaVuSans-65\" d=\"M 3597 1894 \nL 3597 1613 \nL 953 1613 \nQ 991 1019 1311 708 \nQ 1631 397 2203 397 \nQ 2534 397 2845 478 \nQ 3156 559 3463 722 \nL 3463 178 \nQ 3153 47 2828 -22 \nQ 2503 -91 2169 -91 \nQ 1331 -91 842 396 \nQ 353 884 353 1716 \nQ 353 2575 817 3079 \nQ 1281 3584 2069 3584 \nQ 2775 3584 3186 3129 \nQ 3597 2675 3597 1894 \nz\nM 3022 2063 \nQ 3016 2534 2758 2815 \nQ 2500 3097 2075 3097 \nQ 1594 3097 1305 2825 \nQ 1016 2553 972 2059 \nL 3022 2063 \nz\n\" transform=\"scale(0.015625)\"/>\n       <path id=\"DejaVuSans-20\" transform=\"scale(0.015625)\"/>\n       <path id=\"DejaVuSans-28\" d=\"M 1984 4856 \nQ 1566 4138 1362 3434 \nQ 1159 2731 1159 2009 \nQ 1159 1288 1364 580 \nQ 1569 -128 1984 -844 \nL 1484 -844 \nQ 1016 -109 783 600 \nQ 550 1309 550 2009 \nQ 550 2706 781 3412 \nQ 1013 4119 1484 4856 \nL 1984 4856 \nz\n\" transform=\"scale(0.015625)\"/>\n       <path id=\"DejaVuSans-6d\" d=\"M 3328 2828 \nQ 3544 3216 3844 3400 \nQ 4144 3584 4550 3584 \nQ 5097 3584 5394 3201 \nQ 5691 2819 5691 2113 \nL 5691 0 \nL 5113 0 \nL 5113 2094 \nQ 5113 2597 4934 2840 \nQ 4756 3084 4391 3084 \nQ 3944 3084 3684 2787 \nQ 3425 2491 3425 1978 \nL 3425 0 \nL 2847 0 \nL 2847 2094 \nQ 2847 2600 2669 2842 \nQ 2491 3084 2119 3084 \nQ 1678 3084 1418 2786 \nQ 1159 2488 1159 1978 \nL 1159 0 \nL 581 0 \nL 581 3500 \nL 1159 3500 \nL 1159 2956 \nQ 1356 3278 1631 3431 \nQ 1906 3584 2284 3584 \nQ 2666 3584 2933 3390 \nQ 3200 3197 3328 2828 \nz\n\" transform=\"scale(0.015625)\"/>\n       <path id=\"DejaVuSans-29\" d=\"M 513 4856 \nL 1013 4856 \nQ 1481 4119 1714 3412 \nQ 1947 2706 1947 2009 \nQ 1947 1309 1714 600 \nQ 1481 -109 1013 -844 \nL 513 -844 \nQ 928 -128 1133 580 \nQ 1338 1288 1338 2009 \nQ 1338 2731 1133 3434 \nQ 928 4138 513 4856 \nz\n\" transform=\"scale(0.015625)\"/>\n      </defs>\n      <use xlink:href=\"#DejaVuSans-44\"/>\n      <use xlink:href=\"#DejaVuSans-69\" transform=\"translate(77.001953 0)\"/>\n      <use xlink:href=\"#DejaVuSans-73\" transform=\"translate(104.785156 0)\"/>\n      <use xlink:href=\"#DejaVuSans-74\" transform=\"translate(156.884766 0)\"/>\n      <use xlink:href=\"#DejaVuSans-61\" transform=\"translate(196.09375 0)\"/>\n      <use xlink:href=\"#DejaVuSans-6e\" transform=\"translate(257.373047 0)\"/>\n      <use xlink:href=\"#DejaVuSans-63\" transform=\"translate(320.751953 0)\"/>\n      <use xlink:href=\"#DejaVuSans-65\" transform=\"translate(375.732422 0)\"/>\n      <use xlink:href=\"#DejaVuSans-20\" transform=\"translate(437.255859 0)\"/>\n      <use xlink:href=\"#DejaVuSans-28\" transform=\"translate(469.042969 0)\"/>\n      <use xlink:href=\"#DejaVuSans-6d\" transform=\"translate(508.056641 0)\"/>\n      <use xlink:href=\"#DejaVuSans-29\" transform=\"translate(605.46875 0)\"/>\n     </g>\n    </g>\n   </g>\n   <g id=\"matplotlib.axis_2\">\n    <g id=\"ytick_1\">\n     <g id=\"line2d_15\">\n      <path d=\"M 39.989 274.5105 \nL 397.109 274.5105 \n\" clip-path=\"url(#p93ac04f348)\" style=\"fill: none; stroke: #cccccc; stroke-width: 0.8; stroke-linecap: round\"/>\n     </g>\n     <g id=\"line2d_16\">\n      <defs>\n       <path id=\"mdc454b7667\" d=\"M 0 0 \nL -4.8 0 \n\" style=\"stroke: #262626\"/>\n      </defs>\n      <g>\n       <use xlink:href=\"#mdc454b7667\" x=\"39.989\" y=\"274.5105\" style=\"fill: #262626; stroke: #262626\"/>\n      </g>\n     </g>\n     <g id=\"text_9\">\n      <!-- 0 -->\n      <g style=\"fill: #262626\" transform=\"translate(26.09 277.853812) scale(0.088 -0.088)\">\n       <use xlink:href=\"#DejaVuSans-30\"/>\n      </g>\n     </g>\n    </g>\n    <g id=\"ytick_2\">\n     <g id=\"line2d_17\">\n      <path d=\"M 39.989 244.2705 \nL 397.109 244.2705 \n\" clip-path=\"url(#p93ac04f348)\" style=\"fill: none; stroke: #cccccc; stroke-width: 0.8; stroke-linecap: round\"/>\n     </g>\n     <g id=\"line2d_18\">\n      <g>\n       <use xlink:href=\"#mdc454b7667\" x=\"39.989\" y=\"244.2705\" style=\"fill: #262626; stroke: #262626\"/>\n      </g>\n     </g>\n     <g id=\"text_10\">\n      <!-- 2 -->\n      <g style=\"fill: #262626\" transform=\"translate(26.09 247.613812) scale(0.088 -0.088)\">\n       <use xlink:href=\"#DejaVuSans-32\"/>\n      </g>\n     </g>\n    </g>\n    <g id=\"ytick_3\">\n     <g id=\"line2d_19\">\n      <path d=\"M 39.989 214.0305 \nL 397.109 214.0305 \n\" clip-path=\"url(#p93ac04f348)\" style=\"fill: none; stroke: #cccccc; stroke-width: 0.8; stroke-linecap: round\"/>\n     </g>\n     <g id=\"line2d_20\">\n      <g>\n       <use xlink:href=\"#mdc454b7667\" x=\"39.989\" y=\"214.0305\" style=\"fill: #262626; stroke: #262626\"/>\n      </g>\n     </g>\n     <g id=\"text_11\">\n      <!-- 4 -->\n      <g style=\"fill: #262626\" transform=\"translate(26.09 217.373812) scale(0.088 -0.088)\">\n       <use xlink:href=\"#DejaVuSans-34\"/>\n      </g>\n     </g>\n    </g>\n    <g id=\"ytick_4\">\n     <g id=\"line2d_21\">\n      <path d=\"M 39.989 183.7905 \nL 397.109 183.7905 \n\" clip-path=\"url(#p93ac04f348)\" style=\"fill: none; stroke: #cccccc; stroke-width: 0.8; stroke-linecap: round\"/>\n     </g>\n     <g id=\"line2d_22\">\n      <g>\n       <use xlink:href=\"#mdc454b7667\" x=\"39.989\" y=\"183.7905\" style=\"fill: #262626; stroke: #262626\"/>\n      </g>\n     </g>\n     <g id=\"text_12\">\n      <!-- 6 -->\n      <g style=\"fill: #262626\" transform=\"translate(26.09 187.133812) scale(0.088 -0.088)\">\n       <use xlink:href=\"#DejaVuSans-36\"/>\n      </g>\n     </g>\n    </g>\n    <g id=\"ytick_5\">\n     <g id=\"line2d_23\">\n      <path d=\"M 39.989 153.5505 \nL 397.109 153.5505 \n\" clip-path=\"url(#p93ac04f348)\" style=\"fill: none; stroke: #cccccc; stroke-width: 0.8; stroke-linecap: round\"/>\n     </g>\n     <g id=\"line2d_24\">\n      <g>\n       <use xlink:href=\"#mdc454b7667\" x=\"39.989\" y=\"153.5505\" style=\"fill: #262626; stroke: #262626\"/>\n      </g>\n     </g>\n     <g id=\"text_13\">\n      <!-- 8 -->\n      <g style=\"fill: #262626\" transform=\"translate(26.09 156.893812) scale(0.088 -0.088)\">\n       <defs>\n        <path id=\"DejaVuSans-38\" d=\"M 2034 2216 \nQ 1584 2216 1326 1975 \nQ 1069 1734 1069 1313 \nQ 1069 891 1326 650 \nQ 1584 409 2034 409 \nQ 2484 409 2743 651 \nQ 3003 894 3003 1313 \nQ 3003 1734 2745 1975 \nQ 2488 2216 2034 2216 \nz\nM 1403 2484 \nQ 997 2584 770 2862 \nQ 544 3141 544 3541 \nQ 544 4100 942 4425 \nQ 1341 4750 2034 4750 \nQ 2731 4750 3128 4425 \nQ 3525 4100 3525 3541 \nQ 3525 3141 3298 2862 \nQ 3072 2584 2669 2484 \nQ 3125 2378 3379 2068 \nQ 3634 1759 3634 1313 \nQ 3634 634 3220 271 \nQ 2806 -91 2034 -91 \nQ 1263 -91 848 271 \nQ 434 634 434 1313 \nQ 434 1759 690 2068 \nQ 947 2378 1403 2484 \nz\nM 1172 3481 \nQ 1172 3119 1398 2916 \nQ 1625 2713 2034 2713 \nQ 2441 2713 2670 2916 \nQ 2900 3119 2900 3481 \nQ 2900 3844 2670 4047 \nQ 2441 4250 2034 4250 \nQ 1625 4250 1398 4047 \nQ 1172 3844 1172 3481 \nz\n\" transform=\"scale(0.015625)\"/>\n       </defs>\n       <use xlink:href=\"#DejaVuSans-38\"/>\n      </g>\n     </g>\n    </g>\n    <g id=\"ytick_6\">\n     <g id=\"line2d_25\">\n      <path d=\"M 39.989 123.3105 \nL 397.109 123.3105 \n\" clip-path=\"url(#p93ac04f348)\" style=\"fill: none; stroke: #cccccc; stroke-width: 0.8; stroke-linecap: round\"/>\n     </g>\n     <g id=\"line2d_26\">\n      <g>\n       <use xlink:href=\"#mdc454b7667\" x=\"39.989\" y=\"123.3105\" style=\"fill: #262626; stroke: #262626\"/>\n      </g>\n     </g>\n     <g id=\"text_14\">\n      <!-- 10 -->\n      <g style=\"fill: #262626\" transform=\"translate(20.491 126.653812) scale(0.088 -0.088)\">\n       <use xlink:href=\"#DejaVuSans-31\"/>\n       <use xlink:href=\"#DejaVuSans-30\" transform=\"translate(63.623047 0)\"/>\n      </g>\n     </g>\n    </g>\n    <g id=\"ytick_7\">\n     <g id=\"line2d_27\">\n      <path d=\"M 39.989 93.0705 \nL 397.109 93.0705 \n\" clip-path=\"url(#p93ac04f348)\" style=\"fill: none; stroke: #cccccc; stroke-width: 0.8; stroke-linecap: round\"/>\n     </g>\n     <g id=\"line2d_28\">\n      <g>\n       <use xlink:href=\"#mdc454b7667\" x=\"39.989\" y=\"93.0705\" style=\"fill: #262626; stroke: #262626\"/>\n      </g>\n     </g>\n     <g id=\"text_15\">\n      <!-- 12 -->\n      <g style=\"fill: #262626\" transform=\"translate(20.491 96.413812) scale(0.088 -0.088)\">\n       <use xlink:href=\"#DejaVuSans-31\"/>\n       <use xlink:href=\"#DejaVuSans-32\" transform=\"translate(63.623047 0)\"/>\n      </g>\n     </g>\n    </g>\n    <g id=\"ytick_8\">\n     <g id=\"line2d_29\">\n      <path d=\"M 39.989 62.8305 \nL 397.109 62.8305 \n\" clip-path=\"url(#p93ac04f348)\" style=\"fill: none; stroke: #cccccc; stroke-width: 0.8; stroke-linecap: round\"/>\n     </g>\n     <g id=\"line2d_30\">\n      <g>\n       <use xlink:href=\"#mdc454b7667\" x=\"39.989\" y=\"62.8305\" style=\"fill: #262626; stroke: #262626\"/>\n      </g>\n     </g>\n     <g id=\"text_16\">\n      <!-- 14 -->\n      <g style=\"fill: #262626\" transform=\"translate(20.491 66.173812) scale(0.088 -0.088)\">\n       <use xlink:href=\"#DejaVuSans-31\"/>\n       <use xlink:href=\"#DejaVuSans-34\" transform=\"translate(63.623047 0)\"/>\n      </g>\n     </g>\n    </g>\n    <g id=\"ytick_9\">\n     <g id=\"line2d_31\">\n      <path d=\"M 39.989 32.5905 \nL 397.109 32.5905 \n\" clip-path=\"url(#p93ac04f348)\" style=\"fill: none; stroke: #cccccc; stroke-width: 0.8; stroke-linecap: round\"/>\n     </g>\n     <g id=\"line2d_32\">\n      <g>\n       <use xlink:href=\"#mdc454b7667\" x=\"39.989\" y=\"32.5905\" style=\"fill: #262626; stroke: #262626\"/>\n      </g>\n     </g>\n     <g id=\"text_17\">\n      <!-- 16 -->\n      <g style=\"fill: #262626\" transform=\"translate(20.491 35.933812) scale(0.088 -0.088)\">\n       <use xlink:href=\"#DejaVuSans-31\"/>\n       <use xlink:href=\"#DejaVuSans-36\" transform=\"translate(63.623047 0)\"/>\n      </g>\n     </g>\n    </g>\n    <g id=\"text_18\">\n     <!-- Bending Moment (kN·m) -->\n     <g style=\"fill: #262626\" transform=\"translate(14.4945 212.3085) rotate(-90) scale(0.096 -0.096)\">\n      <defs>\n       <path id=\"DejaVuSans-42\" d=\"M 1259 2228 \nL 1259 519 \nL 2272 519 \nQ 2781 519 3026 730 \nQ 3272 941 3272 1375 \nQ 3272 1813 3026 2020 \nQ 2781 2228 2272 2228 \nL 1259 2228 \nz\nM 1259 4147 \nL 1259 2741 \nL 2194 2741 \nQ 2656 2741 2882 2914 \nQ 3109 3088 3109 3444 \nQ 3109 3797 2882 3972 \nQ 2656 4147 2194 4147 \nL 1259 4147 \nz\nM 628 4666 \nL 2241 4666 \nQ 2963 4666 3353 4366 \nQ 3744 4066 3744 3513 \nQ 3744 3084 3544 2831 \nQ 3344 2578 2956 2516 \nQ 3422 2416 3680 2098 \nQ 3938 1781 3938 1306 \nQ 3938 681 3513 340 \nQ 3088 0 2303 0 \nL 628 0 \nL 628 4666 \nz\n\" transform=\"scale(0.015625)\"/>\n       <path id=\"DejaVuSans-64\" d=\"M 2906 2969 \nL 2906 4863 \nL 3481 4863 \nL 3481 0 \nL 2906 0 \nL 2906 525 \nQ 2725 213 2448 61 \nQ 2172 -91 1784 -91 \nQ 1150 -91 751 415 \nQ 353 922 353 1747 \nQ 353 2572 751 3078 \nQ 1150 3584 1784 3584 \nQ 2172 3584 2448 3432 \nQ 2725 3281 2906 2969 \nz\nM 947 1747 \nQ 947 1113 1208 752 \nQ 1469 391 1925 391 \nQ 2381 391 2643 752 \nQ 2906 1113 2906 1747 \nQ 2906 2381 2643 2742 \nQ 2381 3103 1925 3103 \nQ 1469 3103 1208 2742 \nQ 947 2381 947 1747 \nz\n\" transform=\"scale(0.015625)\"/>\n       <path id=\"DejaVuSans-67\" d=\"M 2906 1791 \nQ 2906 2416 2648 2759 \nQ 2391 3103 1925 3103 \nQ 1463 3103 1205 2759 \nQ 947 2416 947 1791 \nQ 947 1169 1205 825 \nQ 1463 481 1925 481 \nQ 2391 481 2648 825 \nQ 2906 1169 2906 1791 \nz\nM 3481 434 \nQ 3481 -459 3084 -895 \nQ 2688 -1331 1869 -1331 \nQ 1566 -1331 1297 -1286 \nQ 1028 -1241 775 -1147 \nL 775 -588 \nQ 1028 -725 1275 -790 \nQ 1522 -856 1778 -856 \nQ 2344 -856 2625 -561 \nQ 2906 -266 2906 331 \nL 2906 616 \nQ 2728 306 2450 153 \nQ 2172 0 1784 0 \nQ 1141 0 747 490 \nQ 353 981 353 1791 \nQ 353 2603 747 3093 \nQ 1141 3584 1784 3584 \nQ 2172 3584 2450 3431 \nQ 2728 3278 2906 2969 \nL 2906 3500 \nL 3481 3500 \nL 3481 434 \nz\n\" transform=\"scale(0.015625)\"/>\n       <path id=\"DejaVuSans-4d\" d=\"M 628 4666 \nL 1569 4666 \nL 2759 1491 \nL 3956 4666 \nL 4897 4666 \nL 4897 0 \nL 4281 0 \nL 4281 4097 \nL 3078 897 \nL 2444 897 \nL 1241 4097 \nL 1241 0 \nL 628 0 \nL 628 4666 \nz\n\" transform=\"scale(0.015625)\"/>\n       <path id=\"DejaVuSans-6f\" d=\"M 1959 3097 \nQ 1497 3097 1228 2736 \nQ 959 2375 959 1747 \nQ 959 1119 1226 758 \nQ 1494 397 1959 397 \nQ 2419 397 2687 759 \nQ 2956 1122 2956 1747 \nQ 2956 2369 2687 2733 \nQ 2419 3097 1959 3097 \nz\nM 1959 3584 \nQ 2709 3584 3137 3096 \nQ 3566 2609 3566 1747 \nQ 3566 888 3137 398 \nQ 2709 -91 1959 -91 \nQ 1206 -91 779 398 \nQ 353 888 353 1747 \nQ 353 2609 779 3096 \nQ 1206 3584 1959 3584 \nz\n\" transform=\"scale(0.015625)\"/>\n       <path id=\"DejaVuSans-6b\" d=\"M 581 4863 \nL 1159 4863 \nL 1159 1991 \nL 2875 3500 \nL 3609 3500 \nL 1753 1863 \nL 3688 0 \nL 2938 0 \nL 1159 1709 \nL 1159 0 \nL 581 0 \nL 581 4863 \nz\n\" transform=\"scale(0.015625)\"/>\n       <path id=\"DejaVuSans-4e\" d=\"M 628 4666 \nL 1478 4666 \nL 3547 763 \nL 3547 4666 \nL 4159 4666 \nL 4159 0 \nL 3309 0 \nL 1241 3903 \nL 1241 0 \nL 628 0 \nL 628 4666 \nz\n\" transform=\"scale(0.015625)\"/>\n       <path id=\"DejaVuSans-b7\" d=\"M 684 2619 \nL 1344 2619 \nL 1344 1825 \nL 684 1825 \nL 684 2619 \nz\n\" transform=\"scale(0.015625)\"/>\n      </defs>\n      <use xlink:href=\"#DejaVuSans-42\"/>\n      <use xlink:href=\"#DejaVuSans-65\" transform=\"translate(68.603516 0)\"/>\n      <use xlink:href=\"#DejaVuSans-6e\" transform=\"translate(130.126953 0)\"/>\n      <use xlink:href=\"#DejaVuSans-64\" transform=\"translate(193.505859 0)\"/>\n      <use xlink:href=\"#DejaVuSans-69\" transform=\"translate(256.982422 0)\"/>\n      <use xlink:href=\"#DejaVuSans-6e\" transform=\"translate(284.765625 0)\"/>\n      <use xlink:href=\"#DejaVuSans-67\" transform=\"translate(348.144531 0)\"/>\n      <use xlink:href=\"#DejaVuSans-20\" transform=\"translate(411.621094 0)\"/>\n      <use xlink:href=\"#DejaVuSans-4d\" transform=\"translate(443.408203 0)\"/>\n      <use xlink:href=\"#DejaVuSans-6f\" transform=\"translate(529.6875 0)\"/>\n      <use xlink:href=\"#DejaVuSans-6d\" transform=\"translate(590.869141 0)\"/>\n      <use xlink:href=\"#DejaVuSans-65\" transform=\"translate(688.28125 0)\"/>\n      <use xlink:href=\"#DejaVuSans-6e\" transform=\"translate(749.804688 0)\"/>\n      <use xlink:href=\"#DejaVuSans-74\" transform=\"translate(813.183594 0)\"/>\n      <use xlink:href=\"#DejaVuSans-20\" transform=\"translate(852.392578 0)\"/>\n      <use xlink:href=\"#DejaVuSans-28\" transform=\"translate(884.179688 0)\"/>\n      <use xlink:href=\"#DejaVuSans-6b\" transform=\"translate(923.193359 0)\"/>\n      <use xlink:href=\"#DejaVuSans-4e\" transform=\"translate(981.103516 0)\"/>\n      <use xlink:href=\"#DejaVuSans-b7\" transform=\"translate(1055.908203 0)\"/>\n      <use xlink:href=\"#DejaVuSans-6d\" transform=\"translate(1087.695312 0)\"/>\n      <use xlink:href=\"#DejaVuSans-29\" transform=\"translate(1185.107422 0)\"/>\n     </g>\n    </g>\n   </g>\n   <g id=\"FillBetweenPolyCollection_1\">\n    <defs>\n     <path id=\"m1626dde4c0\" d=\"M 56.221727 -49.40375 \nL 56.221727 -49.40375 \nL 59.501066 -56.734659 \nL 62.780405 -64.065568 \nL 66.059744 -71.396477 \nL 69.339083 -78.727386 \nL 72.618421 -86.058295 \nL 75.89776 -93.389205 \nL 79.177099 -100.720114 \nL 82.456438 -108.051023 \nL 85.735777 -115.381932 \nL 89.015116 -122.712841 \nL 92.294455 -130.04375 \nL 95.573793 -137.374659 \nL 98.853132 -144.705568 \nL 102.132471 -152.036477 \nL 105.41181 -159.367386 \nL 108.691149 -166.698295 \nL 111.970488 -174.029205 \nL 115.249826 -181.360114 \nL 118.529165 -188.691023 \nL 121.808504 -196.021932 \nL 125.087843 -203.352841 \nL 128.367182 -210.68375 \nL 131.646521 -218.014659 \nL 134.92586 -225.345568 \nL 138.205198 -232.676477 \nL 141.484537 -240.007386 \nL 144.763876 -247.338295 \nL 148.043215 -254.669205 \nL 151.322554 -262.000114 \nL 154.601893 -269.331023 \nL 157.881231 -276.661932 \nL 161.16057 -283.992841 \nL 164.439909 -291.32375 \nL 167.719248 -289.491023 \nL 170.998587 -287.658295 \nL 174.277926 -285.825568 \nL 177.557264 -283.992841 \nL 180.836603 -282.160114 \nL 184.115942 -280.327386 \nL 187.395281 -278.494659 \nL 190.67462 -276.661932 \nL 193.953959 -274.829205 \nL 197.233298 -272.996477 \nL 200.512636 -271.16375 \nL 203.791975 -269.331023 \nL 207.071314 -267.498295 \nL 210.350653 -265.665568 \nL 213.629992 -263.832841 \nL 216.909331 -262.000114 \nL 220.188669 -260.167386 \nL 223.468008 -258.334659 \nL 226.747347 -256.501932 \nL 230.026686 -254.669205 \nL 233.306025 -252.836477 \nL 236.585364 -251.00375 \nL 239.864702 -249.171023 \nL 243.144041 -247.338295 \nL 246.42338 -245.505568 \nL 249.702719 -243.672841 \nL 252.982058 -241.840114 \nL 256.261397 -240.007386 \nL 259.540736 -238.174659 \nL 262.820074 -236.341932 \nL 266.099413 -234.509205 \nL 269.378752 -232.676477 \nL 272.658091 -230.84375 \nL 275.93743 -229.011023 \nL 279.216769 -227.178295 \nL 282.496107 -225.345568 \nL 285.775446 -223.512841 \nL 289.054785 -221.680114 \nL 292.334124 -219.847386 \nL 295.613463 -218.014659 \nL 298.892802 -216.181932 \nL 302.17214 -214.349205 \nL 305.451479 -212.516477 \nL 308.730818 -210.68375 \nL 312.010157 -208.851023 \nL 315.289496 -207.018295 \nL 318.568835 -205.185568 \nL 321.848174 -203.352841 \nL 325.127512 -201.520114 \nL 328.406851 -200.60375 \nL 331.68619 -200.60375 \nL 334.965529 -200.60375 \nL 338.244868 -200.60375 \nL 341.524207 -200.60375 \nL 344.803545 -200.60375 \nL 348.082884 -200.60375 \nL 351.362223 -200.60375 \nL 354.641562 -200.60375 \nL 357.920901 -200.60375 \nL 361.20024 -200.60375 \nL 364.479579 -200.60375 \nL 367.758917 -200.60375 \nL 371.038256 -200.60375 \nL 374.317595 -200.60375 \nL 377.596934 -200.60375 \nL 380.876273 -200.60375 \nL 380.876273 -49.40375 \nL 380.876273 -49.40375 \nL 377.596934 -49.40375 \nL 374.317595 -49.40375 \nL 371.038256 -49.40375 \nL 367.758917 -49.40375 \nL 364.479579 -49.40375 \nL 361.20024 -49.40375 \nL 357.920901 -49.40375 \nL 354.641562 -49.40375 \nL 351.362223 -49.40375 \nL 348.082884 -49.40375 \nL 344.803545 -49.40375 \nL 341.524207 -49.40375 \nL 338.244868 -49.40375 \nL 334.965529 -49.40375 \nL 331.68619 -49.40375 \nL 328.406851 -49.40375 \nL 325.127512 -49.40375 \nL 321.848174 -49.40375 \nL 318.568835 -49.40375 \nL 315.289496 -49.40375 \nL 312.010157 -49.40375 \nL 308.730818 -49.40375 \nL 305.451479 -49.40375 \nL 302.17214 -49.40375 \nL 298.892802 -49.40375 \nL 295.613463 -49.40375 \nL 292.334124 -49.40375 \nL 289.054785 -49.40375 \nL 285.775446 -49.40375 \nL 282.496107 -49.40375 \nL 279.216769 -49.40375 \nL 275.93743 -49.40375 \nL 272.658091 -49.40375 \nL 269.378752 -49.40375 \nL 266.099413 -49.40375 \nL 262.820074 -49.40375 \nL 259.540736 -49.40375 \nL 256.261397 -49.40375 \nL 252.982058 -49.40375 \nL 249.702719 -49.40375 \nL 246.42338 -49.40375 \nL 243.144041 -49.40375 \nL 239.864702 -49.40375 \nL 236.585364 -49.40375 \nL 233.306025 -49.40375 \nL 230.026686 -49.40375 \nL 226.747347 -49.40375 \nL 223.468008 -49.40375 \nL 220.188669 -49.40375 \nL 216.909331 -49.40375 \nL 213.629992 -49.40375 \nL 210.350653 -49.40375 \nL 207.071314 -49.40375 \nL 203.791975 -49.40375 \nL 200.512636 -49.40375 \nL 197.233298 -49.40375 \nL 193.953959 -49.40375 \nL 190.67462 -49.40375 \nL 187.395281 -49.40375 \nL 184.115942 -49.40375 \nL 180.836603 -49.40375 \nL 177.557264 -49.40375 \nL 174.277926 -49.40375 \nL 170.998587 -49.40375 \nL 167.719248 -49.40375 \nL 164.439909 -49.40375 \nL 161.16057 -49.40375 \nL 157.881231 -49.40375 \nL 154.601893 -49.40375 \nL 151.322554 -49.40375 \nL 148.043215 -49.40375 \nL 144.763876 -49.40375 \nL 141.484537 -49.40375 \nL 138.205198 -49.40375 \nL 134.92586 -49.40375 \nL 131.646521 -49.40375 \nL 128.367182 -49.40375 \nL 125.087843 -49.40375 \nL 121.808504 -49.40375 \nL 118.529165 -49.40375 \nL 115.249826 -49.40375 \nL 111.970488 -49.40375 \nL 108.691149 -49.40375 \nL 105.41181 -49.40375 \nL 102.132471 -49.40375 \nL 98.853132 -49.40375 \nL 95.573793 -49.40375 \nL 92.294455 -49.40375 \nL 89.015116 -49.40375 \nL 85.735777 -49.40375 \nL 82.456438 -49.40375 \nL 79.177099 -49.40375 \nL 75.89776 -49.40375 \nL 72.618421 -49.40375 \nL 69.339083 -49.40375 \nL 66.059744 -49.40375 \nL 62.780405 -49.40375 \nL 59.501066 -49.40375 \nL 56.221727 -49.40375 \nz\n\" style=\"stroke: #ffa500; stroke-opacity: 0.3; stroke-width: 0.8\"/>\n    </defs>\n    <g clip-path=\"url(#p93ac04f348)\">\n     <use xlink:href=\"#m1626dde4c0\" x=\"0\" y=\"323.91425\" style=\"fill: #ffa500; fill-opacity: 0.3; stroke: #ffa500; stroke-opacity: 0.3; stroke-width: 0.8\"/>\n    </g>\n   </g>\n   <g id=\"line2d_33\">\n    <path d=\"M 56.221727 274.5105 \nL 59.501066 267.179591 \nL 62.780405 259.848682 \nL 66.059744 252.517773 \nL 69.339083 245.186864 \nL 72.618421 237.855955 \nL 75.89776 230.525045 \nL 79.177099 223.194136 \nL 82.456438 215.863227 \nL 85.735777 208.532318 \nL 89.015116 201.201409 \nL 92.294455 193.8705 \nL 95.573793 186.539591 \nL 98.853132 179.208682 \nL 102.132471 171.877773 \nL 105.41181 164.546864 \nL 108.691149 157.215955 \nL 111.970488 149.885045 \nL 115.249826 142.554136 \nL 118.529165 135.223227 \nL 121.808504 127.892318 \nL 125.087843 120.561409 \nL 128.367182 113.2305 \nL 131.646521 105.899591 \nL 134.92586 98.568682 \nL 138.205198 91.237773 \nL 141.484537 83.906864 \nL 144.763876 76.575955 \nL 148.043215 69.245045 \nL 151.322554 61.914136 \nL 154.601893 54.583227 \nL 157.881231 47.252318 \nL 161.16057 39.921409 \nL 164.439909 32.5905 \nL 167.719248 34.423227 \nL 170.998587 36.255955 \nL 174.277926 38.088682 \nL 177.557264 39.921409 \nL 180.836603 41.754136 \nL 184.115942 43.586864 \nL 187.395281 45.419591 \nL 190.67462 47.252318 \nL 193.953959 49.085045 \nL 197.233298 50.917773 \nL 200.512636 52.7505 \nL 203.791975 54.583227 \nL 207.071314 56.415955 \nL 210.350653 58.248682 \nL 213.629992 60.081409 \nL 216.909331 61.914136 \nL 220.188669 63.746864 \nL 223.468008 65.579591 \nL 226.747347 67.412318 \nL 230.026686 69.245045 \nL 233.306025 71.077773 \nL 236.585364 72.9105 \nL 239.864702 74.743227 \nL 243.144041 76.575955 \nL 246.42338 78.408682 \nL 249.702719 80.241409 \nL 252.982058 82.074136 \nL 256.261397 83.906864 \nL 259.540736 85.739591 \nL 262.820074 87.572318 \nL 266.099413 89.405045 \nL 269.378752 91.237773 \nL 272.658091 93.0705 \nL 275.93743 94.903227 \nL 279.216769 96.735955 \nL 282.496107 98.568682 \nL 285.775446 100.401409 \nL 289.054785 102.234136 \nL 292.334124 104.066864 \nL 295.613463 105.899591 \nL 298.892802 107.732318 \nL 302.17214 109.565045 \nL 305.451479 111.397773 \nL 308.730818 113.2305 \nL 312.010157 115.063227 \nL 315.289496 116.895955 \nL 318.568835 118.728682 \nL 321.848174 120.561409 \nL 325.127512 122.394136 \nL 328.406851 123.3105 \nL 331.68619 123.3105 \nL 334.965529 123.3105 \nL 338.244868 123.3105 \nL 341.524207 123.3105 \nL 344.803545 123.3105 \nL 348.082884 123.3105 \nL 351.362223 123.3105 \nL 354.641562 123.3105 \nL 357.920901 123.3105 \nL 361.20024 123.3105 \nL 364.479579 123.3105 \nL 367.758917 123.3105 \nL 371.038256 123.3105 \nL 374.317595 123.3105 \nL 377.596934 123.3105 \nL 380.876273 123.3105 \n\" clip-path=\"url(#p93ac04f348)\" style=\"fill: none; stroke: #ffa500; stroke-width: 1.2; stroke-linecap: round\"/>\n   </g>\n   <g id=\"patch_3\">\n    <path d=\"M 39.989 286.6065 \nL 39.989 20.4945 \n\" style=\"fill: none; stroke: #262626; stroke-linejoin: miter; stroke-linecap: square\"/>\n   </g>\n   <g id=\"patch_4\">\n    <path d=\"M 397.109 286.6065 \nL 397.109 20.4945 \n\" style=\"fill: none; stroke: #262626; stroke-linejoin: miter; stroke-linecap: square\"/>\n   </g>\n   <g id=\"patch_5\">\n    <path d=\"M 39.989 286.6065 \nL 397.109 286.6065 \n\" style=\"fill: none; stroke: #262626; stroke-linejoin: miter; stroke-linecap: square\"/>\n   </g>\n   <g id=\"patch_6\">\n    <path d=\"M 39.989 20.4945 \nL 397.109 20.4945 \n\" style=\"fill: none; stroke: #262626; stroke-linejoin: miter; stroke-linecap: square\"/>\n   </g>\n   <g id=\"text_19\">\n    <!-- Bending Moment Diagram -->\n    <g style=\"fill: #262626\" transform=\"translate(155.4995 14.4945) scale(0.096 -0.096)\">\n     <defs>\n      <path id=\"DejaVuSans-72\" d=\"M 2631 2963 \nQ 2534 3019 2420 3045 \nQ 2306 3072 2169 3072 \nQ 1681 3072 1420 2755 \nQ 1159 2438 1159 1844 \nL 1159 0 \nL 581 0 \nL 581 3500 \nL 1159 3500 \nL 1159 2956 \nQ 1341 3275 1631 3429 \nQ 1922 3584 2338 3584 \nQ 2397 3584 2469 3576 \nQ 2541 3569 2628 3553 \nL 2631 2963 \nz\n\" transform=\"scale(0.015625)\"/>\n     </defs>\n     <use xlink:href=\"#DejaVuSans-42\"/>\n     <use xlink:href=\"#DejaVuSans-65\" transform=\"translate(68.603516 0)\"/>\n     <use xlink:href=\"#DejaVuSans-6e\" transform=\"translate(130.126953 0)\"/>\n     <use xlink:href=\"#DejaVuSans-64\" transform=\"translate(193.505859 0)\"/>\n     <use xlink:href=\"#DejaVuSans-69\" transform=\"translate(256.982422 0)\"/>\n     <use xlink:href=\"#DejaVuSans-6e\" transform=\"translate(284.765625 0)\"/>\n     <use xlink:href=\"#DejaVuSans-67\" transform=\"translate(348.144531 0)\"/>\n     <use xlink:href=\"#DejaVuSans-20\" transform=\"translate(411.621094 0)\"/>\n     <use xlink:href=\"#DejaVuSans-4d\" transform=\"translate(443.408203 0)\"/>\n     <use xlink:href=\"#DejaVuSans-6f\" transform=\"translate(529.6875 0)\"/>\n     <use xlink:href=\"#DejaVuSans-6d\" transform=\"translate(590.869141 0)\"/>\n     <use xlink:href=\"#DejaVuSans-65\" transform=\"translate(688.28125 0)\"/>\n     <use xlink:href=\"#DejaVuSans-6e\" transform=\"translate(749.804688 0)\"/>\n     <use xlink:href=\"#DejaVuSans-74\" transform=\"translate(813.183594 0)\"/>\n     <use xlink:href=\"#DejaVuSans-20\" transform=\"translate(852.392578 0)\"/>\n     <use xlink:href=\"#DejaVuSans-44\" transform=\"translate(884.179688 0)\"/>\n     <use xlink:href=\"#DejaVuSans-69\" transform=\"translate(961.181641 0)\"/>\n     <use xlink:href=\"#DejaVuSans-61\" transform=\"translate(988.964844 0)\"/>\n     <use xlink:href=\"#DejaVuSans-67\" transform=\"translate(1050.244141 0)\"/>\n     <use xlink:href=\"#DejaVuSans-72\" transform=\"translate(1113.720703 0)\"/>\n     <use xlink:href=\"#DejaVuSans-61\" transform=\"translate(1154.833984 0)\"/>\n     <use xlink:href=\"#DejaVuSans-6d\" transform=\"translate(1216.113281 0)\"/>\n    </g>\n   </g>\n  </g>\n </g>\n <defs>\n  <clipPath id=\"p93ac04f348\">\n   <rect x=\"39.989\" y=\"20.4945\" width=\"357.12\" height=\"266.112\"/>\n  </clipPath>\n </defs>\n</svg>\n"
          },
          "metadata": {}
        }
      ],
      "source": [
        "import numpy as np\n",
        "import matplotlib.pyplot as plt\n",
        "\n",
        "L = 6.0\n",
        "d_ab = 2.0\n",
        "d_ac = 5.0\n",
        "A_y = 8.0\n",
        "F_b = 10.0\n",
        "x = np.linspace(0, L, 100)\n",
        "def calc_M_ab(A_y, x_b):\n",
        "    return A_y * x_b\n",
        "def calc_M_bc(A_y, F_b, x_c, x_b):\n",
        "    return A_y * x_c - F_b * (x_c - x_b)\n",
        "moment = np.zeros_like(x)\n",
        "for i, xi in enumerate(x):\n",
        "    if xi <= d_ab:\n",
        "        moment[i] = calc_M_ab(A_y, xi)\n",
        "    elif xi <= d_ac:\n",
        "        moment[i] = calc_M_bc(A_y, F_b, xi, d_ab)\n",
        "    else:\n",
        "        moment[i] = calc_M_bc(A_y, F_b, d_ac, d_ab)\n",
        "fig, ax = plt.subplots()\n",
        "ax.plot(x, moment, color='orange')\n",
        "ax.fill_between(x, moment, 0, alpha=0.3, color='orange')\n",
        "ax.set_xlabel('Distance (m)')\n",
        "ax.set_ylabel('Bending Moment (kN·m)')\n",
        "ax.set_title('Bending Moment Diagram')\n",
        "ax.grid(True)\n",
        "plt.show()\n"
      ]
    }
  ],
  "metadata": {
    "kernelspec": {
      "display_name": "Python 3",
      "language": "python",
      "name": "python3"
    },
    "language_info": {
      "codemirror_mode": {
        "name": "ipython",
        "version": 3
      },
      "file_extension": ".py",
      "mimetype": "text/x-python",
      "name": "python",
      "nbconvert_exporter": "python",
      "pygments_lexer": "ipython3",
      "version": "3.11.4"
    },
    "colab": {
      "provenance": []
    }
  },
  "nbformat": 4,
  "nbformat_minor": 0
}